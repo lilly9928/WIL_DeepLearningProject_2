{
 "cells": [
  {
   "cell_type": "code",
   "execution_count": 2,
   "metadata": {},
   "outputs": [],
   "source": [
    "import json"
   ]
  },
  {
   "cell_type": "code",
   "execution_count": 14,
   "metadata": {},
   "outputs": [],
   "source": [
    "file_path = \"/data2/NS/GQA/questions/test_all_questions.json\"\n",
    "\n",
    "with open(file_path, 'r') as file:\n",
    "    data = json.load(file)"
   ]
  },
  {
   "cell_type": "code",
   "execution_count": 15,
   "metadata": {},
   "outputs": [],
   "source": [
    "import pandas as pd\n",
    "df = pd.DataFrame(data)"
   ]
  },
  {
   "cell_type": "code",
   "execution_count": 16,
   "metadata": {},
   "outputs": [
    {
     "data": {
      "text/html": [
       "<div>\n",
       "<style scoped>\n",
       "    .dataframe tbody tr th:only-of-type {\n",
       "        vertical-align: middle;\n",
       "    }\n",
       "\n",
       "    .dataframe tbody tr th {\n",
       "        vertical-align: top;\n",
       "    }\n",
       "\n",
       "    .dataframe thead th {\n",
       "        text-align: right;\n",
       "    }\n",
       "</style>\n",
       "<table border=\"1\" class=\"dataframe\">\n",
       "  <thead>\n",
       "    <tr style=\"text-align: right;\">\n",
       "      <th></th>\n",
       "      <th>isBalanced</th>\n",
       "      <th>question</th>\n",
       "      <th>imageId</th>\n",
       "    </tr>\n",
       "  </thead>\n",
       "  <tbody>\n",
       "    <tr>\n",
       "      <th>201971873</th>\n",
       "      <td>False</td>\n",
       "      <td>Is the blanket to the right of a pillow?</td>\n",
       "      <td>n15740</td>\n",
       "    </tr>\n",
       "    <tr>\n",
       "      <th>201958739</th>\n",
       "      <td>False</td>\n",
       "      <td>Is the lamp post behind the people the train i...</td>\n",
       "      <td>n278826</td>\n",
       "    </tr>\n",
       "    <tr>\n",
       "      <th>202199438</th>\n",
       "      <td>False</td>\n",
       "      <td>Is the dirty ground made of plastic?</td>\n",
       "      <td>n476594</td>\n",
       "    </tr>\n",
       "    <tr>\n",
       "      <th>201821851</th>\n",
       "      <td>False</td>\n",
       "      <td>Is the rose red?</td>\n",
       "      <td>n283781</td>\n",
       "    </tr>\n",
       "    <tr>\n",
       "      <th>201510862</th>\n",
       "      <td>False</td>\n",
       "      <td>Are there any players in the scene?</td>\n",
       "      <td>n357179</td>\n",
       "    </tr>\n",
       "  </tbody>\n",
       "</table>\n",
       "</div>"
      ],
      "text/plain": [
       "          isBalanced                                           question  \\\n",
       "201971873      False           Is the blanket to the right of a pillow?   \n",
       "201958739      False  Is the lamp post behind the people the train i...   \n",
       "202199438      False               Is the dirty ground made of plastic?   \n",
       "201821851      False                                   Is the rose red?   \n",
       "201510862      False                Are there any players in the scene?   \n",
       "\n",
       "           imageId  \n",
       "201971873   n15740  \n",
       "201958739  n278826  \n",
       "202199438  n476594  \n",
       "201821851  n283781  \n",
       "201510862  n357179  "
      ]
     },
     "execution_count": 16,
     "metadata": {},
     "output_type": "execute_result"
    }
   ],
   "source": [
    "df = df.T\n",
    "df.head()\n"
   ]
  },
  {
   "cell_type": "code",
   "execution_count": 68,
   "metadata": {},
   "outputs": [
    {
     "name": "stderr",
     "output_type": "stream",
     "text": [
      "/tmp/ipykernel_2059165/2545214937.py:32: FutureWarning: Series.__getitem__ treating keys as positions is deprecated. In a future version, integer keys will always be treated as labels (consistent with DataFrame behavior). To access a value by position, use `ser.iloc[pos]`\n",
      "  image_id.append(iidf[0])\n",
      "/tmp/ipykernel_2059165/2545214937.py:33: FutureWarning: Series.__getitem__ treating keys as positions is deprecated. In a future version, integer keys will always be treated as labels (consistent with DataFrame behavior). To access a value by position, use `ser.iloc[pos]`\n",
      "  question_list.append(qdf[0])\n"
     ]
    }
   ],
   "source": [
    "q_list = [\n",
    "    'Is the vehicle in the top of the image?',\n",
    "    'Are there trains or fences in this scene?',\n",
    "    'Who is carrying the umbrella?',\n",
    "    'Which place is it?',\n",
    "    'What color is the curtain that is to the right of the mirror?',\n",
    "    'Is the pillow in the top part or in the bottom of the picture?',\n",
    "    'Do you see bottles to the right of the wine on the left of the picture?',\n",
    "    'Is the street light standing behind a truck?',\n",
    "    'Which side is the food on?',\n",
    "    'What do the wetsuit and the sky have in common?',\n",
    "    'Do the post and the sign have a different colors?',\n",
    "    'Does the traffic cone have white color?',\n",
    "    'Are these animals of different species?',\n",
    "    'Which side of the image is the chair on?',\n",
    "    'Do you see any drawers to the left of the plate?',\n",
    "    'Does the mat have the same color as the sky?',\n",
    "    'Is a cat above the mat?',\n",
    "    'Is the mat below a cat?',\n",
    "]\n",
    "\n",
    "image_id = []\n",
    "question_list = []\n",
    "\n",
    "for q in q_list:\n",
    "    #image_id.append(df.loc[df[\"question\"]== q,['question','imageId']])\n",
    "    if df.loc[df[\"question\"]== q].empty:\n",
    "        continue\n",
    "    else: \n",
    "       iidf = df.loc[df[\"question\"]== q]['imageId']\n",
    "       qdf = df.loc[df[\"question\"]== q]['question']\n",
    "       image_id.append(iidf[0])\n",
    "       question_list.append(qdf[0])\n",
    "    #    for v in iidf:\n",
    "    #        image_id.append(v)\n",
    "    \n",
    "\n",
    "#print(df.loc[df[\"question\"]=='Is the vehicle in the top of the image?'])"
   ]
  },
  {
   "cell_type": "code",
   "execution_count": 69,
   "metadata": {},
   "outputs": [
    {
     "name": "stdout",
     "output_type": "stream",
     "text": [
      "9\n",
      "9\n"
     ]
    }
   ],
   "source": [
    "print(len(set(image_id)))\n",
    "print(len(set(question_list)))"
   ]
  },
  {
   "cell_type": "code",
   "execution_count": 70,
   "metadata": {},
   "outputs": [
    {
     "name": "stdout",
     "output_type": "stream",
     "text": [
      "['n437038', 'n153818', 'n542565', 'n428090', 'n435687', 'n167620', 'n70342', 'n418470', 'n77875']\n",
      "['Is the vehicle in the top of the image?', 'Who is carrying the umbrella?', 'Which place is it?', 'Is the pillow in the top part or in the bottom of the picture?', 'Which side is the food on?', 'Do the post and the sign have a different colors?', 'Does the traffic cone have white color?', 'Are these animals of different species?', 'Which side of the image is the chair on?']\n"
     ]
    }
   ],
   "source": [
    "print(image_id)\n",
    "print(question_list)"
   ]
  }
 ],
 "metadata": {
  "kernelspec": {
   "display_name": "Python 3.11.5 ('KIJI')",
   "language": "python",
   "name": "python3"
  },
  "language_info": {
   "codemirror_mode": {
    "name": "ipython",
    "version": 3
   },
   "file_extension": ".py",
   "mimetype": "text/x-python",
   "name": "python",
   "nbconvert_exporter": "python",
   "pygments_lexer": "ipython3",
   "version": "3.11.5"
  },
  "orig_nbformat": 4,
  "vscode": {
   "interpreter": {
    "hash": "2d4ce9b068c66b067ddc9a0e35241e261eb403701c001fd5e69fb192b3569b41"
   }
  }
 },
 "nbformat": 4,
 "nbformat_minor": 2
}
