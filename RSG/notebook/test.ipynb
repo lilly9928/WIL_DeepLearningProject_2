{
 "cells": [
  {
   "cell_type": "code",
   "execution_count": 1,
   "metadata": {},
   "outputs": [
    {
     "name": "stdout",
     "output_type": "stream",
     "text": [
      "Apple Apple PROPN NNP nsubj Xxxxx True False\n",
      "is be AUX VBZ aux xx True True\n",
      "looking look VERB VBG ROOT xxxx True False\n",
      "at at ADP IN prep xx True True\n",
      "buying buy VERB VBG pcomp xxxx True False\n",
      "U.K. U.K. PROPN NNP dobj X.X. False False\n",
      "startup startup NOUN NN dep xxxx True False\n",
      "for for ADP IN prep xxx True True\n",
      "$ $ SYM $ quantmod $ False False\n",
      "1 1 NUM CD compound d False False\n",
      "billion billion NUM CD pobj xxxx True False\n"
     ]
    }
   ],
   "source": [
    "import spacy\n",
    "\n",
    "nlp = spacy.load('en_core_web_sm')\n",
    "doc = nlp(u'Apple is looking at buying U.K. startup for $1 billion')\n",
    "for token in doc:\n",
    "    print(token.text, token.lemma_, token.pos_, token.tag_, token.dep_, token.shape_, token.is_alpha, token.is_stop)"
   ]
  },
  {
   "cell_type": "code",
   "execution_count": 2,
   "metadata": {},
   "outputs": [
    {
     "name": "stderr",
     "output_type": "stream",
     "text": [
      "/home/user2/anaconda3/envs/RSG/lib/python3.7/site-packages/spacy/displacy/__init__.py:106: UserWarning: [W011] It looks like you're calling displacy.serve from within a Jupyter notebook or a similar environment. This likely means you're already running a local web server, so there's no need to make displaCy start another one. Instead, you should be able to replace displacy.serve with displacy.render to show the visualization.\n",
      "  warnings.warn(Warnings.W011)\n"
     ]
    },
    {
     "data": {
      "text/html": [
       "<span class=\"tex2jax_ignore\"><!DOCTYPE html>\n",
       "<html lang=\"en\">\n",
       "    <head>\n",
       "        <title>displaCy</title>\n",
       "    </head>\n",
       "\n",
       "    <body style=\"font-size: 16px; font-family: -apple-system, BlinkMacSystemFont, 'Segoe UI', Helvetica, Arial, sans-serif, 'Apple Color Emoji', 'Segoe UI Emoji', 'Segoe UI Symbol'; padding: 4rem 2rem; direction: ltr\">\n",
       "<figure style=\"margin-bottom: 6rem\">\n",
       "<svg xmlns=\"http://www.w3.org/2000/svg\" xmlns:xlink=\"http://www.w3.org/1999/xlink\" xml:lang=\"en\" id=\"66eb9c881afe446c8a38e8f7cbce5c25-0\" class=\"displacy\" width=\"750\" height=\"312.0\" direction=\"ltr\" style=\"max-width: none; height: 312.0px; color: #000000; background: #ffffff; font-family: Arial; direction: ltr\">\n",
       "<text class=\"displacy-token\" fill=\"currentColor\" text-anchor=\"middle\" y=\"222.0\">\n",
       "    <tspan class=\"displacy-word\" fill=\"currentColor\" x=\"50\">She</tspan>\n",
       "    <tspan class=\"displacy-tag\" dy=\"2em\" fill=\"currentColor\" x=\"50\">PRON</tspan>\n",
       "</text>\n",
       "\n",
       "<text class=\"displacy-token\" fill=\"currentColor\" text-anchor=\"middle\" y=\"222.0\">\n",
       "    <tspan class=\"displacy-word\" fill=\"currentColor\" x=\"225\">ate</tspan>\n",
       "    <tspan class=\"displacy-tag\" dy=\"2em\" fill=\"currentColor\" x=\"225\">VERB</tspan>\n",
       "</text>\n",
       "\n",
       "<text class=\"displacy-token\" fill=\"currentColor\" text-anchor=\"middle\" y=\"222.0\">\n",
       "    <tspan class=\"displacy-word\" fill=\"currentColor\" x=\"400\">the</tspan>\n",
       "    <tspan class=\"displacy-tag\" dy=\"2em\" fill=\"currentColor\" x=\"400\">DET</tspan>\n",
       "</text>\n",
       "\n",
       "<text class=\"displacy-token\" fill=\"currentColor\" text-anchor=\"middle\" y=\"222.0\">\n",
       "    <tspan class=\"displacy-word\" fill=\"currentColor\" x=\"575\">pizza</tspan>\n",
       "    <tspan class=\"displacy-tag\" dy=\"2em\" fill=\"currentColor\" x=\"575\">NOUN</tspan>\n",
       "</text>\n",
       "\n",
       "<g class=\"displacy-arrow\">\n",
       "    <path class=\"displacy-arc\" id=\"arrow-66eb9c881afe446c8a38e8f7cbce5c25-0-0\" stroke-width=\"2px\" d=\"M70,177.0 C70,89.5 220.0,89.5 220.0,177.0\" fill=\"none\" stroke=\"currentColor\"/>\n",
       "    <text dy=\"1.25em\" style=\"font-size: 0.8em; letter-spacing: 1px\">\n",
       "        <textPath xlink:href=\"#arrow-66eb9c881afe446c8a38e8f7cbce5c25-0-0\" class=\"displacy-label\" startOffset=\"50%\" side=\"left\" fill=\"currentColor\" text-anchor=\"middle\">nsubj</textPath>\n",
       "    </text>\n",
       "    <path class=\"displacy-arrowhead\" d=\"M70,179.0 L62,167.0 78,167.0\" fill=\"currentColor\"/>\n",
       "</g>\n",
       "\n",
       "<g class=\"displacy-arrow\">\n",
       "    <path class=\"displacy-arc\" id=\"arrow-66eb9c881afe446c8a38e8f7cbce5c25-0-1\" stroke-width=\"2px\" d=\"M420,177.0 C420,89.5 570.0,89.5 570.0,177.0\" fill=\"none\" stroke=\"currentColor\"/>\n",
       "    <text dy=\"1.25em\" style=\"font-size: 0.8em; letter-spacing: 1px\">\n",
       "        <textPath xlink:href=\"#arrow-66eb9c881afe446c8a38e8f7cbce5c25-0-1\" class=\"displacy-label\" startOffset=\"50%\" side=\"left\" fill=\"currentColor\" text-anchor=\"middle\">det</textPath>\n",
       "    </text>\n",
       "    <path class=\"displacy-arrowhead\" d=\"M420,179.0 L412,167.0 428,167.0\" fill=\"currentColor\"/>\n",
       "</g>\n",
       "\n",
       "<g class=\"displacy-arrow\">\n",
       "    <path class=\"displacy-arc\" id=\"arrow-66eb9c881afe446c8a38e8f7cbce5c25-0-2\" stroke-width=\"2px\" d=\"M245,177.0 C245,2.0 575.0,2.0 575.0,177.0\" fill=\"none\" stroke=\"currentColor\"/>\n",
       "    <text dy=\"1.25em\" style=\"font-size: 0.8em; letter-spacing: 1px\">\n",
       "        <textPath xlink:href=\"#arrow-66eb9c881afe446c8a38e8f7cbce5c25-0-2\" class=\"displacy-label\" startOffset=\"50%\" side=\"left\" fill=\"currentColor\" text-anchor=\"middle\">dobj</textPath>\n",
       "    </text>\n",
       "    <path class=\"displacy-arrowhead\" d=\"M575.0,179.0 L583.0,167.0 567.0,167.0\" fill=\"currentColor\"/>\n",
       "</g>\n",
       "</svg>\n",
       "</figure>\n",
       "</body>\n",
       "</html></span>"
      ],
      "text/plain": [
       "<IPython.core.display.HTML object>"
      ]
     },
     "metadata": {},
     "output_type": "display_data"
    },
    {
     "name": "stdout",
     "output_type": "stream",
     "text": [
      "\n",
      "Using the 'dep' visualizer\n",
      "Serving on http://0.0.0.0:5000 ...\n",
      "\n",
      "Shutting down server on port 5000.\n"
     ]
    }
   ],
   "source": [
    "from spacy import displacy\n",
    "doc = nlp(\"She ate the pizza\")\n",
    "displacy.serve(doc, style=\"dep\")"
   ]
  },
  {
   "cell_type": "code",
   "execution_count": 4,
   "metadata": {},
   "outputs": [
    {
     "data": {
      "text/html": [
       "<span class=\"tex2jax_ignore\"><!DOCTYPE html>\n",
       "<html lang=\"en\">\n",
       "    <head>\n",
       "        <title>displaCy</title>\n",
       "    </head>\n",
       "\n",
       "    <body style=\"font-size: 16px; font-family: -apple-system, BlinkMacSystemFont, 'Segoe UI', Helvetica, Arial, sans-serif, 'Apple Color Emoji', 'Segoe UI Emoji', 'Segoe UI Symbol'; padding: 4rem 2rem; direction: ltr\">\n",
       "<figure style=\"margin-bottom: 6rem\">\n",
       "<div class=\"entities\" style=\"line-height: 2.5; direction: ltr\">But \n",
       "<mark class=\"entity\" style=\"background: #7aecec; padding: 0.45em 0.6em; margin: 0 0.25em; line-height: 1; border-radius: 0.35em;\">\n",
       "    Google\n",
       "    <span style=\"font-size: 0.8em; font-weight: bold; line-height: 1; border-radius: 0.35em; vertical-align: middle; margin-left: 0.5rem\">ORG</span>\n",
       "</mark>\n",
       " is starting from behind. The company made a late push into hardware, and \n",
       "<mark class=\"entity\" style=\"background: #7aecec; padding: 0.45em 0.6em; margin: 0 0.25em; line-height: 1; border-radius: 0.35em;\">\n",
       "    Apple\n",
       "    <span style=\"font-size: 0.8em; font-weight: bold; line-height: 1; border-radius: 0.35em; vertical-align: middle; margin-left: 0.5rem\">ORG</span>\n",
       "</mark>\n",
       "’s \n",
       "<mark class=\"entity\" style=\"background: #aa9cfc; padding: 0.45em 0.6em; margin: 0 0.25em; line-height: 1; border-radius: 0.35em;\">\n",
       "    Siri\n",
       "    <span style=\"font-size: 0.8em; font-weight: bold; line-height: 1; border-radius: 0.35em; vertical-align: middle; margin-left: 0.5rem\">PERSON</span>\n",
       "</mark>\n",
       ", available on \n",
       "<mark class=\"entity\" style=\"background: #7aecec; padding: 0.45em 0.6em; margin: 0 0.25em; line-height: 1; border-radius: 0.35em;\">\n",
       "    iPhones\n",
       "    <span style=\"font-size: 0.8em; font-weight: bold; line-height: 1; border-radius: 0.35em; vertical-align: middle; margin-left: 0.5rem\">ORG</span>\n",
       "</mark>\n",
       ", and \n",
       "<mark class=\"entity\" style=\"background: #7aecec; padding: 0.45em 0.6em; margin: 0 0.25em; line-height: 1; border-radius: 0.35em;\">\n",
       "    Amazon\n",
       "    <span style=\"font-size: 0.8em; font-weight: bold; line-height: 1; border-radius: 0.35em; vertical-align: middle; margin-left: 0.5rem\">ORG</span>\n",
       "</mark>\n",
       "’s \n",
       "<mark class=\"entity\" style=\"background: #7aecec; padding: 0.45em 0.6em; margin: 0 0.25em; line-height: 1; border-radius: 0.35em;\">\n",
       "    Alexa\n",
       "    <span style=\"font-size: 0.8em; font-weight: bold; line-height: 1; border-radius: 0.35em; vertical-align: middle; margin-left: 0.5rem\">ORG</span>\n",
       "</mark>\n",
       " software, which runs on its \n",
       "<mark class=\"entity\" style=\"background: #ff9561; padding: 0.45em 0.6em; margin: 0 0.25em; line-height: 1; border-radius: 0.35em;\">\n",
       "    Echo\n",
       "    <span style=\"font-size: 0.8em; font-weight: bold; line-height: 1; border-radius: 0.35em; vertical-align: middle; margin-left: 0.5rem\">LOC</span>\n",
       "</mark>\n",
       " and Dot devices, have clear leads in consumer adoption.</div>\n",
       "</figure>\n",
       "</body>\n",
       "</html></span>"
      ],
      "text/plain": [
       "<IPython.core.display.HTML object>"
      ]
     },
     "metadata": {},
     "output_type": "display_data"
    },
    {
     "name": "stdout",
     "output_type": "stream",
     "text": [
      "\n",
      "Using the 'ent' visualizer\n",
      "Serving on http://0.0.0.0:5000 ...\n",
      "\n",
      "Shutting down server on port 5000.\n"
     ]
    }
   ],
   "source": [
    "text = \"\"\"But Google is starting from behind. The company made a late push into hardware, and Apple’s Siri, available on iPhones, and Amazon’s Alexa software, which runs on its Echo and Dot devices, have clear leads in consumer adoption.\"\"\"  \n",
    "# nlp = spacy.load(\"custom_ner_model\") \n",
    "doc = nlp(text) \n",
    "displacy.serve(doc, style=\"ent\")"
   ]
  },
  {
   "cell_type": "code",
   "execution_count": 6,
   "metadata": {},
   "outputs": [
    {
     "name": "stdout",
     "output_type": "stream",
     "text": [
      "[Yuh, -, jung, Youn, won, the, Oscar, for, best, supporting, actress, for, her, performance, in, \", Minari, \", on, Sunday, and, made, history, by, becoming, the, first, Korean, actor, to, win, an, Academy, Award, .]\n"
     ]
    }
   ],
   "source": [
    "import spacy\n",
    "\n",
    "nlp = spacy.load('en_core_web_sm')\n",
    "text = 'Yuh-jung Youn won the Oscar for best supporting actress for her performance in \"Minari\" on Sunday and made history by becoming the first Korean actor to win an Academy Award.'\n",
    "doc = nlp(text)\n",
    "tokenized = list(doc)\n",
    "print(tokenized)"
   ]
  },
  {
   "cell_type": "code",
   "execution_count": 20,
   "metadata": {},
   "outputs": [
    {
     "name": "stdout",
     "output_type": "stream",
     "text": [
      "[{'TEXT': 'bank'}]\n",
      "10001145146352519825 ok 20 21 bank\n",
      "10001145146352519825 20 21\n"
     ]
    }
   ],
   "source": [
    "from multiprocessing import Pool\n",
    "import spacy\n",
    "from spacy.matcher import Matcher\n",
    "from tqdm import tqdm\n",
    "import nltk\n",
    "import json\n",
    "import string\n",
    "\n",
    "s = \"a revolving door is convenient for two direction travel, but it also serves as a security measure at a bank.\"\n",
    "a = \"bank\"\n",
    "nlp = spacy.load('en_core_web_sm', disable=['ner', 'parser', 'textcat'])\n",
    "nlp.add_pipe('sentencizer')\n",
    "ans_words = nlp(a)\n",
    "doc = nlp(s)\n",
    "ans_matcher = Matcher(nlp.vocab)\n",
    "print([{'TEXT': token.text.lower()} for token in ans_words])\n",
    "pattern = [{'TEXT': token.text.lower()} for token in ans_words]\n",
    "ans_matcher.add(\"ok\", [pattern])\n",
    "\n",
    "matches = ans_matcher(doc)\n",
    "\n",
    "for match_id, start, end in matches:\n",
    "    string_id = nlp.vocab.strings[match_id]  # Get string representation\n",
    "    span = doc[start:end]  # The matched span\n",
    "    print(match_id, string_id, start, end, span.text)\n",
    "    \n",
    "for a, b, c in matches:\n",
    "    print(a, b, c)"
   ]
  },
  {
   "cell_type": "code",
   "execution_count": 12,
   "metadata": {},
   "outputs": [
    {
     "name": "stdout",
     "output_type": "stream",
     "text": [
      "[('$9.4 million', 'MONEY'), ('the prior year', 'DATE'), ('$2.7 million', 'MONEY')]\n",
      "[('twelve billion dollars', 'MONEY'), ('1b', 'MONEY')]\n"
     ]
    }
   ],
   "source": [
    "import spacy\n",
    "\n",
    "texts = [\n",
    "    \"Net income was $9.4 million compared to the prior year of $2.7 million.\",\n",
    "    \"Revenue exceeded twelve billion dollars, with a loss of $1b.\",\n",
    "]\n",
    "\n",
    "nlp = spacy.load(\"en_core_web_sm\")\n",
    "for doc in nlp.pipe(texts, disable=[\"tok2vec\", \"tagger\", \"parser\", \"attribute_ruler\", \"lemmatizer\"]):\n",
    "    # Do something with the doc here\n",
    "    print([(ent.text, ent.label_) for ent in doc.ents])"
   ]
  },
  {
   "cell_type": "code",
   "execution_count": 18,
   "metadata": {},
   "outputs": [
    {
     "name": "stdout",
     "output_type": "stream",
     "text": [
      "15578876784678163569 HelloWorld 0 3 Hello, world\n"
     ]
    }
   ],
   "source": [
    "import spacy\n",
    "from spacy.matcher import Matcher\n",
    "\n",
    "nlp = spacy.load(\"en_core_web_sm\")\n",
    "matcher = Matcher(nlp.vocab)\n",
    "# Add match ID \"HelloWorld\" with no callback and one pattern\n",
    "pattern = [{\"LOWER\": \"hello\"}, {\"IS_PUNCT\": True}, {\"LOWER\": \"world\"}]\n",
    "matcher.add(\"HelloWorld\", [pattern])\n",
    "\n",
    "doc = nlp(\"Hello, world! Hello world!\")\n",
    "matches = matcher(doc)\n",
    "for match_id, start, end in matches:\n",
    "    string_id = nlp.vocab.strings[match_id]  # Get string representation\n",
    "    span = doc[start:end]  # The matched span\n",
    "    print(match_id, string_id, start, end, span.text)"
   ]
  },
  {
   "cell_type": "code",
   "execution_count": 25,
   "metadata": {},
   "outputs": [
    {
     "name": "stdout",
     "output_type": "stream",
     "text": [
      "er1234\n"
     ]
    }
   ],
   "source": [
    "test = 'er123456'\n",
    "print(test[:-2]) "
   ]
  },
  {
   "cell_type": "code",
   "execution_count": 4,
   "metadata": {},
   "outputs": [],
   "source": [
    "import torch.nn as nn \n",
    "import torch\n",
    "\n",
    "class GCNLayer(nn.Module):\n",
    "\n",
    "    def __init__(self, c_in, c_out):\n",
    "        super().__init__()\n",
    "        self.projection = nn.Linear(c_in, c_out)\n",
    "\n",
    "    def forward(self, node_feats, adj_matrix):\n",
    "        \"\"\"\n",
    "        Inputs:\n",
    "            node_feats - Tensor with node features of shape [batch_size, num_nodes, c_in]\n",
    "            adj_matrix - Batch of adjacency matrices of the graph. If there is an edge from i to j, adj_matrix[b,i,j]=1 else 0.\n",
    "                         Supports directed edges by non-symmetric matrices. Assumes to already have added the identity connections.\n",
    "                         Shape: [batch_size, num_nodes, num_nodes]\n",
    "        \"\"\"\n",
    "        # Num neighbours = number of incoming edges\n",
    "        num_neighbours = adj_matrix.sum(dim=-1, keepdims=True)\n",
    "        node_feats = self.projection(node_feats)\n",
    "        node_feats = torch.bmm(adj_matrix, node_feats)\n",
    "        node_feats = node_feats / num_neighbours\n",
    "        return node_feats"
   ]
  },
  {
   "cell_type": "code",
   "execution_count": 5,
   "metadata": {},
   "outputs": [
    {
     "name": "stdout",
     "output_type": "stream",
     "text": [
      "Node features:\n",
      " tensor([[[0., 1.],\n",
      "         [2., 3.],\n",
      "         [4., 5.],\n",
      "         [6., 7.]]])\n",
      "\n",
      "Adjacency matrix:\n",
      " tensor([[[1., 1., 0., 0.],\n",
      "         [1., 1., 1., 1.],\n",
      "         [0., 1., 1., 1.],\n",
      "         [0., 1., 1., 1.]]])\n"
     ]
    }
   ],
   "source": [
    "node_feats = torch.arange(8, dtype=torch.float32).view(1, 4, 2)\n",
    "adj_matrix = torch.Tensor([[[1, 1, 0, 0],\n",
    "                            [1, 1, 1, 1],\n",
    "                            [0, 1, 1, 1],\n",
    "                            [0, 1, 1, 1]]])\n",
    "\n",
    "print(\"Node features:\\n\", node_feats)\n",
    "print(\"\\nAdjacency matrix:\\n\", adj_matrix)"
   ]
  },
  {
   "cell_type": "code",
   "execution_count": 6,
   "metadata": {},
   "outputs": [
    {
     "name": "stdout",
     "output_type": "stream",
     "text": [
      "Adjacency matrix tensor([[[1., 1., 0., 0.],\n",
      "         [1., 1., 1., 1.],\n",
      "         [0., 1., 1., 1.],\n",
      "         [0., 1., 1., 1.]]])\n",
      "Input features tensor([[[0., 1.],\n",
      "         [2., 3.],\n",
      "         [4., 5.],\n",
      "         [6., 7.]]])\n",
      "Output features tensor([[[1., 2.],\n",
      "         [3., 4.],\n",
      "         [4., 5.],\n",
      "         [4., 5.]]])\n"
     ]
    }
   ],
   "source": [
    "layer = GCNLayer(c_in=2, c_out=2)\n",
    "layer.projection.weight.data = torch.Tensor([[1., 0.], [0., 1.]])\n",
    "layer.projection.bias.data = torch.Tensor([0., 0.])\n",
    "\n",
    "with torch.no_grad():\n",
    "    out_feats = layer(node_feats, adj_matrix)\n",
    "\n",
    "print(\"Adjacency matrix\", adj_matrix)\n",
    "print(\"Input features\", node_feats)\n",
    "print(\"Output features\", out_feats)"
   ]
  },
  {
   "cell_type": "code",
   "execution_count": 29,
   "metadata": {},
   "outputs": [
    {
     "name": "stdout",
     "output_type": "stream",
     "text": [
      "<class 'networkx.classes.graph.Graph'>\n",
      "False\n",
      "(0, {'club': 'Mr. Hi'})\n",
      "(1, {'club': 'Mr. Hi'})\n",
      "(2, {'club': 'Mr. Hi'})\n",
      "(3, {'club': 'Mr. Hi'})\n",
      "(4, {'club': 'Mr. Hi'})\n",
      "(5, {'club': 'Mr. Hi'})\n",
      "(6, {'club': 'Mr. Hi'})\n",
      "(7, {'club': 'Mr. Hi'})\n",
      "(8, {'club': 'Mr. Hi'})\n",
      "(9, {'club': 'Officer'})\n",
      "(10, {'club': 'Mr. Hi'})\n",
      "(11, {'club': 'Mr. Hi'})\n",
      "(12, {'club': 'Mr. Hi'})\n",
      "(13, {'club': 'Mr. Hi'})\n",
      "(14, {'club': 'Officer'})\n",
      "(15, {'club': 'Officer'})\n",
      "(16, {'club': 'Mr. Hi'})\n",
      "(17, {'club': 'Mr. Hi'})\n",
      "(18, {'club': 'Officer'})\n",
      "(19, {'club': 'Mr. Hi'})\n",
      "(20, {'club': 'Officer'})\n",
      "(21, {'club': 'Mr. Hi'})\n",
      "(22, {'club': 'Officer'})\n",
      "(23, {'club': 'Officer'})\n",
      "(24, {'club': 'Officer'})\n",
      "(25, {'club': 'Officer'})\n",
      "(26, {'club': 'Officer'})\n",
      "(27, {'club': 'Officer'})\n",
      "(28, {'club': 'Officer'})\n",
      "(29, {'club': 'Officer'})\n",
      "(30, {'club': 'Officer'})\n",
      "(31, {'club': 'Officer'})\n",
      "(32, {'club': 'Officer'})\n",
      "(33, {'club': 'Officer'})\n"
     ]
    }
   ],
   "source": [
    "import networkx as nx\n",
    "\n",
    "G = nx.karate_club_graph()\n",
    "print(type(G))           # <class 'networkx.classes.graph.Graph'>\n",
    "print(G.is_directed())   # False\n",
    "for node in G.nodes(data=True):\n",
    "    print(node)\n"
   ]
  },
  {
   "cell_type": "code",
   "execution_count": 25,
   "metadata": {},
   "outputs": [
    {
     "data": {
      "image/png": "[encoded data removed]",
      "text/plain": [
       "<Figure size 640x480 with 1 Axes>"
      ]
     },
     "metadata": {},
     "output_type": "display_data"
    }
   ],
   "source": [
    "nx.draw(G, with_labels=True)"
   ]
  },
  {
   "cell_type": "code",
   "execution_count": 10,
   "metadata": {},
   "outputs": [
    {
     "name": "stdout",
     "output_type": "stream",
     "text": [
      "Average degree of karate club network is 5\n"
     ]
    }
   ],
   "source": [
    "def average_degree(num_edges, num_nodes):\n",
    "  # TODO: Implement this function that takes number of edges\n",
    "  # and number of nodes, and returns the average node degree of \n",
    "  # the graph. Round the result to nearest integer (for example \n",
    "  # 3.3 will be rounded to 3 and 3.7 will be rounded to 4)\n",
    "\n",
    "  avg_degree = 0\n",
    "\n",
    "  ############# Your code here ############\n",
    "  avg_degree = round(2 * num_edges/ num_nodes)\n",
    "  #########################################\n",
    "\n",
    "  return avg_degree\n",
    "\n",
    "num_edges = G.number_of_edges()\n",
    "num_nodes = G.number_of_nodes()\n",
    "avg_degree = average_degree(num_edges, num_nodes)\n",
    "print(\"Average degree of karate club network is {}\".format(avg_degree))"
   ]
  },
  {
   "cell_type": "code",
   "execution_count": 11,
   "metadata": {},
   "outputs": [
    {
     "name": "stdout",
     "output_type": "stream",
     "text": [
      "Average clustering coefficient of karate club network is 0.57\n"
     ]
    }
   ],
   "source": [
    "def average_clustering_coefficient(G):\n",
    "  # TODO: Implement this function that takes a nx.Graph\n",
    "  # and returns the average clustering coefficient. Round \n",
    "  # the result to 2 decimal places (for example 3.333 will\n",
    "  # be rounded to 3.33 and 3.7571 will be rounded to 3.76)\n",
    "\n",
    "  avg_cluster_coef = 0\n",
    "\n",
    "  ############# Your code here ############\n",
    "  ## Note: \n",
    "  ## 1: Please use the appropriate NetworkX clustering function\n",
    "  avg_cluster_coef = nx.average_clustering(G)\n",
    "  avg_cluster_coef = round(avg_cluster_coef, 2)\n",
    "  #########################################\n",
    "\n",
    "  return avg_cluster_coef\n",
    "\n",
    "avg_cluster_coef = average_clustering_coefficient(G)\n",
    "print(\"Average clustering coefficient of karate club network is {}\".format(avg_cluster_coef))"
   ]
  },
  {
   "cell_type": "code",
   "execution_count": 20,
   "metadata": {},
   "outputs": [
    {
     "name": "stdout",
     "output_type": "stream",
     "text": [
      "Embedding: Embedding(34, 16)\n",
      "tensor([[0.2114, 0.7335, 0.1433, 0.9647, 0.2933, 0.7951, 0.5170, 0.2801, 0.8339,\n",
      "         0.1185, 0.2355, 0.5599, 0.8966, 0.2858, 0.1955, 0.1808],\n",
      "        [0.7486, 0.6546, 0.3843, 0.9820, 0.6012, 0.3710, 0.4929, 0.9915, 0.8358,\n",
      "         0.4629, 0.9902, 0.7196, 0.2338, 0.0450, 0.7906, 0.9689]],\n",
      "       grad_fn=<EmbeddingBackward0>)\n"
     ]
    },
    {
     "data": {
      "image/png": "[encoded data removed]",
      "text/plain": [
       "<Figure size 600x600 with 1 Axes>"
      ]
     },
     "metadata": {},
     "output_type": "display_data"
    }
   ],
   "source": [
    "from sklearn.decomposition import PCA\n",
    "import matplotlib.pyplot as plt\n",
    "\n",
    "# Please do not change / reset the random seed\n",
    "torch.manual_seed(1)\n",
    "\n",
    "def create_node_emb(num_node=34, embedding_dim=16):\n",
    "  # TODO: Implement this function that will create the node embedding matrix.\n",
    "  # A torch.nn.Embedding layer will be returned. You do not need to change \n",
    "  # the values of num_node and embedding_dim. The weight matrix of returned \n",
    "  # layer should be initialized under uniform distribution. \n",
    "\n",
    "  emb = None\n",
    "\n",
    "  ############# Your code here ############\n",
    "  emb = nn.Embedding(num_embeddings=num_node, embedding_dim=embedding_dim)\n",
    "  emb.weight.data = torch.rand(num_node, embedding_dim)\n",
    "  #########################################\n",
    "\n",
    "  return emb\n",
    "\n",
    "emb = create_node_emb()\n",
    "ids = torch.LongTensor([0, 3])\n",
    "\n",
    "# Print the embedding layer\n",
    "print(\"Embedding: {}\".format(emb))\n",
    "\n",
    "# An example that gets the embeddings for node 0 and 3\n",
    "print(emb(ids))\n",
    "\n",
    "\n",
    "def visualize_emb(emb):\n",
    "  X = emb.weight.data.numpy()\n",
    "  pca = PCA(n_components=2)\n",
    "  components = pca.fit_transform(X)\n",
    "  plt.figure(figsize=(6, 6))\n",
    "  club1_x = []\n",
    "  club1_y = []\n",
    "  club2_x = []\n",
    "  club2_y = []\n",
    "  for node in G.nodes(data=True):\n",
    "    if node[1]['club'] == 'Mr. Hi':\n",
    "      club1_x.append(components[node[0]][0])\n",
    "      club1_y.append(components[node[0]][1])\n",
    "    else:\n",
    "      club2_x.append(components[node[0]][0])\n",
    "      club2_y.append(components[node[0]][1])\n",
    "  plt.scatter(club1_x, club1_y, color=\"red\", label=\"Mr. Hi\")\n",
    "  plt.scatter(club2_x, club2_y, color=\"blue\", label=\"Officer\")\n",
    "  plt.legend()\n",
    "  plt.show()\n",
    "\n",
    "# Visualize the initial random embeddding\n",
    "visualize_emb(emb)"
   ]
  },
  {
   "cell_type": "code",
   "execution_count": 31,
   "metadata": {},
   "outputs": [
    {
     "name": "stdout",
     "output_type": "stream",
     "text": [
      "The pos_edge_index tensor has shape torch.Size([2, 78])\n",
      "The pos_edge_index tensor has sum value 2535\n"
     ]
    }
   ],
   "source": [
    "def graph_to_edge_list(G):\n",
    "  # TODO: Implement the function that returns the edge list of\n",
    "  # an nx.Graph. The returned edge_list should be a list of tuples\n",
    "  # where each tuple is a tuple representing an edge connected \n",
    "  # by two nodes.\n",
    "\n",
    "  edge_list = []\n",
    "\n",
    "  ############# Your code here ############\n",
    "  edge_list = list(G.edges)\n",
    "\n",
    "  #########################################\n",
    "\n",
    "  return edge_list\n",
    "\n",
    "def edge_list_to_tensor(edge_list):\n",
    "  # TODO: Implement the function that transforms the edge_list to\n",
    "  # tensor. The input edge_list is a list of tuples and the resulting\n",
    "  # tensor should have the shape [2 x len(edge_list)].\n",
    "\n",
    "  edge_index = torch.tensor([])\n",
    "\n",
    "  ############# Your code here ############\n",
    "  edge_index = torch.tensor(edge_list).T\n",
    "  #########################################\n",
    "\n",
    "  return edge_index\n",
    "\n",
    "pos_edge_list = graph_to_edge_list(G)\n",
    "pos_edge_index = edge_list_to_tensor(pos_edge_list)\n",
    "print(\"The pos_edge_index tensor has shape {}\".format(pos_edge_index.shape))\n",
    "print(\"The pos_edge_index tensor has sum value {}\".format(torch.sum(pos_edge_index)))\n",
    "\n",
    "# The pos_edge_index tensor has shape torch.Size([2, 78])\n",
    "# The pos_edge_index tensor has sum value 2535"
   ]
  },
  {
   "cell_type": "code",
   "execution_count": 34,
   "metadata": {},
   "outputs": [
    {
     "name": "stdout",
     "output_type": "stream",
     "text": [
      "The neg_edge_index tensor has shape torch.Size([2, 78])\n",
      "(7, 1) is not a negative edge of G\n",
      "(1, 33) is a negative edge of G\n",
      "(33, 22) is not a negative edge of G\n",
      "(0, 4) is not a negative edge of G\n",
      "(4, 2) is a negative edge of G\n"
     ]
    }
   ],
   "source": [
    "import random\n",
    "\n",
    "def sample_negative_edges(G, num_neg_samples):\n",
    "  # TODO: Implement the function that returns a list of negative edges.\n",
    "  # The number of sampled negative edges is num_neg_samples. You do not\n",
    "  # need to consider the corner case when the number of possible negative edges\n",
    "  # is less than num_neg_samples. It should be ok as long as your implementation \n",
    "  # works on the karate club network. In this implementation, self loops should \n",
    "  # not be considered as either a positive or negative edge. Also, notice that \n",
    "  # the karate club network is an undirected graph, if (0, 1) is a positive \n",
    "  # edge, do you think (1, 0) can be a negative one?\n",
    "\n",
    "  neg_edge_list = []\n",
    "\n",
    "  ############# Your code here ############\n",
    "  for i in G.nodes():\n",
    "    for j in G.nodes():\n",
    "      if (i, j) in G.edges(): continue\n",
    "      if (j, i) in G.edges(): continue\n",
    "      neg_edge_list.append((i, j))\n",
    "      neg_edge_list.append((j, i))\n",
    "\n",
    "  neg_edge_list = random.sample(neg_edge_list, num_neg_samples)\n",
    "  #########################################\n",
    "\n",
    "  return neg_edge_list\n",
    "\n",
    "# Sample 78 negative edges\n",
    "neg_edge_list = sample_negative_edges(G, len(pos_edge_list))\n",
    "\n",
    "# Transform the negative edge list to tensor\n",
    "neg_edge_index = edge_list_to_tensor(neg_edge_list)\n",
    "print(\"The neg_edge_index tensor has shape {}\".format(neg_edge_index.shape))\n",
    "\n",
    "# Which of following edges can be negative ones?\n",
    "edge_1 = (7, 1)\n",
    "edge_2 = (1, 33)\n",
    "edge_3 = (33, 22)\n",
    "edge_4 = (0, 4)\n",
    "edge_5 = (4, 2)\n",
    "\n",
    "############# Your code here ############\n",
    "## Note:\n",
    "## 1: For each of the 5 edges, print whether it can be negative edge\n",
    "for (u, v) in [edge_1, edge_2, edge_3, edge_4, edge_5]:\n",
    "  if (u, v) not in pos_edge_list and (v, u) not in pos_edge_list:\n",
    "    print(f'{(u, v)} is a negative edge of G')\n",
    "  else:\n",
    "    print(f'{(u, v)} is not a negative edge of G')\n"
   ]
  },
  {
   "cell_type": "code",
   "execution_count": 36,
   "metadata": {},
   "outputs": [
    {
     "name": "stdout",
     "output_type": "stream",
     "text": [
      "torch.Size([2, 78])\n",
      "torch.Size([2, 156])\n",
      "Epoch: 0, Loss: 1.9182, Accuracy: 0.5\n",
      "Epoch: 1, Loss: 1.9060, Accuracy: 0.5\n",
      "Epoch: 2, Loss: 1.8830, Accuracy: 0.5\n",
      "Epoch: 3, Loss: 1.8507, Accuracy: 0.5\n",
      "Epoch: 4, Loss: 1.8104, Accuracy: 0.5\n",
      "Epoch: 5, Loss: 1.7634, Accuracy: 0.5\n",
      "Epoch: 6, Loss: 1.7112, Accuracy: 0.5\n",
      "Epoch: 7, Loss: 1.6550, Accuracy: 0.5\n",
      "Epoch: 8, Loss: 1.5958, Accuracy: 0.5\n",
      "Epoch: 9, Loss: 1.5348, Accuracy: 0.5\n",
      "Epoch: 10, Loss: 1.4728, Accuracy: 0.5\n",
      "Epoch: 11, Loss: 1.4108, Accuracy: 0.5\n",
      "Epoch: 12, Loss: 1.3494, Accuracy: 0.5\n",
      "Epoch: 13, Loss: 1.2894, Accuracy: 0.5\n",
      "Epoch: 14, Loss: 1.2312, Accuracy: 0.5\n",
      "Epoch: 15, Loss: 1.1753, Accuracy: 0.5\n",
      "Epoch: 16, Loss: 1.1220, Accuracy: 0.5\n",
      "Epoch: 17, Loss: 1.0716, Accuracy: 0.5\n",
      "Epoch: 18, Loss: 1.0241, Accuracy: 0.5\n",
      "Epoch: 19, Loss: 0.9798, Accuracy: 0.5\n",
      "Epoch: 20, Loss: 0.9385, Accuracy: 0.5\n",
      "Epoch: 21, Loss: 0.9002, Accuracy: 0.4936\n",
      "Epoch: 22, Loss: 0.8649, Accuracy: 0.4936\n",
      "Epoch: 23, Loss: 0.8325, Accuracy: 0.4936\n",
      "Epoch: 24, Loss: 0.8027, Accuracy: 0.4936\n",
      "Epoch: 25, Loss: 0.7753, Accuracy: 0.4936\n",
      "Epoch: 26, Loss: 0.7504, Accuracy: 0.5192\n",
      "Epoch: 27, Loss: 0.7275, Accuracy: 0.5256\n",
      "Epoch: 28, Loss: 0.7067, Accuracy: 0.5449\n",
      "Epoch: 29, Loss: 0.6876, Accuracy: 0.5641\n",
      "Epoch: 30, Loss: 0.6702, Accuracy: 0.5577\n",
      "Epoch: 31, Loss: 0.6542, Accuracy: 0.5705\n",
      "Epoch: 32, Loss: 0.6396, Accuracy: 0.5833\n",
      "Epoch: 33, Loss: 0.6262, Accuracy: 0.5962\n",
      "Epoch: 34, Loss: 0.6138, Accuracy: 0.6026\n",
      "Epoch: 35, Loss: 0.6024, Accuracy: 0.6218\n",
      "Epoch: 36, Loss: 0.5919, Accuracy: 0.6218\n",
      "Epoch: 37, Loss: 0.5821, Accuracy: 0.6346\n",
      "Epoch: 38, Loss: 0.5730, Accuracy: 0.641\n",
      "Epoch: 39, Loss: 0.5646, Accuracy: 0.6538\n",
      "Epoch: 40, Loss: 0.5566, Accuracy: 0.6667\n",
      "Epoch: 41, Loss: 0.5492, Accuracy: 0.6795\n",
      "Epoch: 42, Loss: 0.5422, Accuracy: 0.6987\n",
      "Epoch: 43, Loss: 0.5356, Accuracy: 0.7051\n",
      "Epoch: 44, Loss: 0.5293, Accuracy: 0.7244\n",
      "Epoch: 45, Loss: 0.5234, Accuracy: 0.7308\n",
      "Epoch: 46, Loss: 0.5177, Accuracy: 0.7372\n",
      "Epoch: 47, Loss: 0.5122, Accuracy: 0.75\n",
      "Epoch: 48, Loss: 0.5070, Accuracy: 0.7628\n",
      "Epoch: 49, Loss: 0.5020, Accuracy: 0.7692\n",
      "Epoch: 50, Loss: 0.4972, Accuracy: 0.8013\n",
      "Epoch: 51, Loss: 0.4925, Accuracy: 0.8141\n",
      "Epoch: 52, Loss: 0.4880, Accuracy: 0.8333\n",
      "Epoch: 53, Loss: 0.4836, Accuracy: 0.8397\n",
      "Epoch: 54, Loss: 0.4793, Accuracy: 0.8397\n",
      "Epoch: 55, Loss: 0.4751, Accuracy: 0.8462\n",
      "Epoch: 56, Loss: 0.4711, Accuracy: 0.8462\n",
      "Epoch: 57, Loss: 0.4671, Accuracy: 0.8526\n",
      "Epoch: 58, Loss: 0.4632, Accuracy: 0.859\n",
      "Epoch: 59, Loss: 0.4593, Accuracy: 0.8654\n",
      "Epoch: 60, Loss: 0.4556, Accuracy: 0.8718\n",
      "Epoch: 61, Loss: 0.4519, Accuracy: 0.8782\n",
      "Epoch: 62, Loss: 0.4482, Accuracy: 0.8782\n",
      "Epoch: 63, Loss: 0.4447, Accuracy: 0.8846\n",
      "Epoch: 64, Loss: 0.4411, Accuracy: 0.8846\n",
      "Epoch: 65, Loss: 0.4376, Accuracy: 0.8846\n",
      "Epoch: 66, Loss: 0.4342, Accuracy: 0.8846\n",
      "Epoch: 67, Loss: 0.4308, Accuracy: 0.8846\n",
      "Epoch: 68, Loss: 0.4274, Accuracy: 0.8846\n",
      "Epoch: 69, Loss: 0.4241, Accuracy: 0.8846\n",
      "Epoch: 70, Loss: 0.4208, Accuracy: 0.8846\n",
      "Epoch: 71, Loss: 0.4176, Accuracy: 0.8846\n",
      "Epoch: 72, Loss: 0.4143, Accuracy: 0.8846\n",
      "Epoch: 73, Loss: 0.4111, Accuracy: 0.891\n",
      "Epoch: 74, Loss: 0.4080, Accuracy: 0.8974\n",
      "Epoch: 75, Loss: 0.4048, Accuracy: 0.8974\n",
      "Epoch: 76, Loss: 0.4017, Accuracy: 0.9038\n",
      "Epoch: 77, Loss: 0.3987, Accuracy: 0.9103\n",
      "Epoch: 78, Loss: 0.3956, Accuracy: 0.9167\n",
      "Epoch: 79, Loss: 0.3926, Accuracy: 0.9167\n",
      "Epoch: 80, Loss: 0.3896, Accuracy: 0.9231\n",
      "Epoch: 81, Loss: 0.3866, Accuracy: 0.9231\n",
      "Epoch: 82, Loss: 0.3836, Accuracy: 0.9231\n",
      "Epoch: 83, Loss: 0.3807, Accuracy: 0.9231\n",
      "Epoch: 84, Loss: 0.3778, Accuracy: 0.9231\n",
      "Epoch: 85, Loss: 0.3749, Accuracy: 0.9359\n",
      "Epoch: 86, Loss: 0.3721, Accuracy: 0.9359\n",
      "Epoch: 87, Loss: 0.3693, Accuracy: 0.9359\n",
      "Epoch: 88, Loss: 0.3664, Accuracy: 0.9359\n",
      "Epoch: 89, Loss: 0.3637, Accuracy: 0.9359\n",
      "Epoch: 90, Loss: 0.3609, Accuracy: 0.9359\n",
      "Epoch: 91, Loss: 0.3582, Accuracy: 0.9359\n",
      "Epoch: 92, Loss: 0.3554, Accuracy: 0.9359\n",
      "Epoch: 93, Loss: 0.3528, Accuracy: 0.9359\n",
      "Epoch: 94, Loss: 0.3501, Accuracy: 0.9423\n",
      "Epoch: 95, Loss: 0.3474, Accuracy: 0.9423\n",
      "Epoch: 96, Loss: 0.3448, Accuracy: 0.9423\n",
      "Epoch: 97, Loss: 0.3422, Accuracy: 0.9487\n",
      "Epoch: 98, Loss: 0.3397, Accuracy: 0.9487\n",
      "Epoch: 99, Loss: 0.3371, Accuracy: 0.9487\n",
      "Epoch: 100, Loss: 0.3346, Accuracy: 0.9487\n",
      "Epoch: 101, Loss: 0.3321, Accuracy: 0.9487\n",
      "Epoch: 102, Loss: 0.3296, Accuracy: 0.9487\n",
      "Epoch: 103, Loss: 0.3271, Accuracy: 0.9487\n",
      "Epoch: 104, Loss: 0.3247, Accuracy: 0.9487\n",
      "Epoch: 105, Loss: 0.3223, Accuracy: 0.9551\n",
      "Epoch: 106, Loss: 0.3199, Accuracy: 0.9551\n",
      "Epoch: 107, Loss: 0.3176, Accuracy: 0.9551\n",
      "Epoch: 108, Loss: 0.3152, Accuracy: 0.9551\n",
      "Epoch: 109, Loss: 0.3129, Accuracy: 0.9551\n",
      "Epoch: 110, Loss: 0.3106, Accuracy: 0.9551\n",
      "Epoch: 111, Loss: 0.3084, Accuracy: 0.9551\n",
      "Epoch: 112, Loss: 0.3061, Accuracy: 0.9551\n",
      "Epoch: 113, Loss: 0.3039, Accuracy: 0.9551\n",
      "Epoch: 114, Loss: 0.3017, Accuracy: 0.9615\n",
      "Epoch: 115, Loss: 0.2996, Accuracy: 0.9615\n",
      "Epoch: 116, Loss: 0.2974, Accuracy: 0.9615\n",
      "Epoch: 117, Loss: 0.2953, Accuracy: 0.9615\n",
      "Epoch: 118, Loss: 0.2932, Accuracy: 0.9615\n",
      "Epoch: 119, Loss: 0.2911, Accuracy: 0.9615\n",
      "Epoch: 120, Loss: 0.2891, Accuracy: 0.9615\n",
      "Epoch: 121, Loss: 0.2871, Accuracy: 0.9615\n",
      "Epoch: 122, Loss: 0.2851, Accuracy: 0.9679\n",
      "Epoch: 123, Loss: 0.2831, Accuracy: 0.9679\n",
      "Epoch: 124, Loss: 0.2811, Accuracy: 0.9679\n",
      "Epoch: 125, Loss: 0.2792, Accuracy: 0.9679\n",
      "Epoch: 126, Loss: 0.2773, Accuracy: 0.9679\n",
      "Epoch: 127, Loss: 0.2754, Accuracy: 0.9679\n",
      "Epoch: 128, Loss: 0.2736, Accuracy: 0.9679\n",
      "Epoch: 129, Loss: 0.2717, Accuracy: 0.9679\n",
      "Epoch: 130, Loss: 0.2699, Accuracy: 0.9679\n",
      "Epoch: 131, Loss: 0.2681, Accuracy: 0.9679\n",
      "Epoch: 132, Loss: 0.2664, Accuracy: 0.9679\n",
      "Epoch: 133, Loss: 0.2646, Accuracy: 0.9679\n",
      "Epoch: 134, Loss: 0.2629, Accuracy: 0.9679\n",
      "Epoch: 135, Loss: 0.2612, Accuracy: 0.9679\n",
      "Epoch: 136, Loss: 0.2595, Accuracy: 0.9679\n",
      "Epoch: 137, Loss: 0.2579, Accuracy: 0.9679\n",
      "Epoch: 138, Loss: 0.2562, Accuracy: 0.9679\n",
      "Epoch: 139, Loss: 0.2546, Accuracy: 0.9679\n",
      "Epoch: 140, Loss: 0.2530, Accuracy: 0.9679\n",
      "Epoch: 141, Loss: 0.2514, Accuracy: 0.9679\n",
      "Epoch: 142, Loss: 0.2499, Accuracy: 0.9679\n",
      "Epoch: 143, Loss: 0.2484, Accuracy: 0.9679\n",
      "Epoch: 144, Loss: 0.2468, Accuracy: 0.9679\n",
      "Epoch: 145, Loss: 0.2453, Accuracy: 0.9679\n",
      "Epoch: 146, Loss: 0.2439, Accuracy: 0.9679\n",
      "Epoch: 147, Loss: 0.2424, Accuracy: 0.9679\n",
      "Epoch: 148, Loss: 0.2410, Accuracy: 0.9679\n",
      "Epoch: 149, Loss: 0.2396, Accuracy: 0.9679\n",
      "Epoch: 150, Loss: 0.2382, Accuracy: 0.9679\n",
      "Epoch: 151, Loss: 0.2368, Accuracy: 0.9679\n",
      "Epoch: 152, Loss: 0.2354, Accuracy: 0.9679\n",
      "Epoch: 153, Loss: 0.2341, Accuracy: 0.9679\n",
      "Epoch: 154, Loss: 0.2328, Accuracy: 0.9679\n",
      "Epoch: 155, Loss: 0.2315, Accuracy: 0.9679\n",
      "Epoch: 156, Loss: 0.2302, Accuracy: 0.9679\n",
      "Epoch: 157, Loss: 0.2289, Accuracy: 0.9679\n",
      "Epoch: 158, Loss: 0.2276, Accuracy: 0.9679\n",
      "Epoch: 159, Loss: 0.2264, Accuracy: 0.9679\n",
      "Epoch: 160, Loss: 0.2252, Accuracy: 0.9679\n",
      "Epoch: 161, Loss: 0.2240, Accuracy: 0.9679\n",
      "Epoch: 162, Loss: 0.2228, Accuracy: 0.9679\n",
      "Epoch: 163, Loss: 0.2216, Accuracy: 0.9679\n",
      "Epoch: 164, Loss: 0.2205, Accuracy: 0.9679\n",
      "Epoch: 165, Loss: 0.2193, Accuracy: 0.9679\n",
      "Epoch: 166, Loss: 0.2182, Accuracy: 0.9679\n",
      "Epoch: 167, Loss: 0.2171, Accuracy: 0.9679\n",
      "Epoch: 168, Loss: 0.2160, Accuracy: 0.9679\n",
      "Epoch: 169, Loss: 0.2149, Accuracy: 0.9679\n",
      "Epoch: 170, Loss: 0.2138, Accuracy: 0.9679\n",
      "Epoch: 171, Loss: 0.2128, Accuracy: 0.9679\n",
      "Epoch: 172, Loss: 0.2117, Accuracy: 0.9679\n",
      "Epoch: 173, Loss: 0.2107, Accuracy: 0.9679\n",
      "Epoch: 174, Loss: 0.2097, Accuracy: 0.9679\n",
      "Epoch: 175, Loss: 0.2087, Accuracy: 0.9679\n",
      "Epoch: 176, Loss: 0.2077, Accuracy: 0.9679\n",
      "Epoch: 177, Loss: 0.2067, Accuracy: 0.9679\n",
      "Epoch: 178, Loss: 0.2057, Accuracy: 0.9679\n",
      "Epoch: 179, Loss: 0.2048, Accuracy: 0.9679\n",
      "Epoch: 180, Loss: 0.2038, Accuracy: 0.9679\n",
      "Epoch: 181, Loss: 0.2029, Accuracy: 0.9679\n",
      "Epoch: 182, Loss: 0.2020, Accuracy: 0.9679\n",
      "Epoch: 183, Loss: 0.2011, Accuracy: 0.9679\n",
      "Epoch: 184, Loss: 0.2002, Accuracy: 0.9679\n",
      "Epoch: 185, Loss: 0.1993, Accuracy: 0.9679\n",
      "Epoch: 186, Loss: 0.1985, Accuracy: 0.9679\n",
      "Epoch: 187, Loss: 0.1976, Accuracy: 0.9679\n",
      "Epoch: 188, Loss: 0.1968, Accuracy: 0.9679\n",
      "Epoch: 189, Loss: 0.1959, Accuracy: 0.9679\n",
      "Epoch: 190, Loss: 0.1951, Accuracy: 0.9679\n",
      "Epoch: 191, Loss: 0.1943, Accuracy: 0.9679\n",
      "Epoch: 192, Loss: 0.1935, Accuracy: 0.9679\n",
      "Epoch: 193, Loss: 0.1927, Accuracy: 0.9679\n",
      "Epoch: 194, Loss: 0.1919, Accuracy: 0.9679\n",
      "Epoch: 195, Loss: 0.1911, Accuracy: 0.9679\n",
      "Epoch: 196, Loss: 0.1903, Accuracy: 0.9679\n",
      "Epoch: 197, Loss: 0.1896, Accuracy: 0.9679\n",
      "Epoch: 198, Loss: 0.1888, Accuracy: 0.9679\n",
      "Epoch: 199, Loss: 0.1881, Accuracy: 0.9679\n",
      "Epoch: 200, Loss: 0.1874, Accuracy: 0.9679\n",
      "Epoch: 201, Loss: 0.1867, Accuracy: 0.9679\n",
      "Epoch: 202, Loss: 0.1859, Accuracy: 0.9679\n",
      "Epoch: 203, Loss: 0.1852, Accuracy: 0.9679\n",
      "Epoch: 204, Loss: 0.1845, Accuracy: 0.9679\n",
      "Epoch: 205, Loss: 0.1839, Accuracy: 0.9679\n",
      "Epoch: 206, Loss: 0.1832, Accuracy: 0.9679\n",
      "Epoch: 207, Loss: 0.1825, Accuracy: 0.9679\n",
      "Epoch: 208, Loss: 0.1818, Accuracy: 0.9679\n",
      "Epoch: 209, Loss: 0.1812, Accuracy: 0.9679\n",
      "Epoch: 210, Loss: 0.1805, Accuracy: 0.9679\n",
      "Epoch: 211, Loss: 0.1799, Accuracy: 0.9679\n",
      "Epoch: 212, Loss: 0.1793, Accuracy: 0.9679\n",
      "Epoch: 213, Loss: 0.1786, Accuracy: 0.9679\n",
      "Epoch: 214, Loss: 0.1780, Accuracy: 0.9679\n",
      "Epoch: 215, Loss: 0.1774, Accuracy: 0.9679\n",
      "Epoch: 216, Loss: 0.1768, Accuracy: 0.9679\n",
      "Epoch: 217, Loss: 0.1762, Accuracy: 0.9679\n",
      "Epoch: 218, Loss: 0.1756, Accuracy: 0.9679\n",
      "Epoch: 219, Loss: 0.1750, Accuracy: 0.9679\n",
      "Epoch: 220, Loss: 0.1745, Accuracy: 0.9679\n",
      "Epoch: 221, Loss: 0.1739, Accuracy: 0.9679\n",
      "Epoch: 222, Loss: 0.1733, Accuracy: 0.9679\n",
      "Epoch: 223, Loss: 0.1728, Accuracy: 0.9679\n",
      "Epoch: 224, Loss: 0.1722, Accuracy: 0.9679\n",
      "Epoch: 225, Loss: 0.1717, Accuracy: 0.9679\n",
      "Epoch: 226, Loss: 0.1711, Accuracy: 0.9679\n",
      "Epoch: 227, Loss: 0.1706, Accuracy: 0.9679\n",
      "Epoch: 228, Loss: 0.1701, Accuracy: 0.9679\n",
      "Epoch: 229, Loss: 0.1696, Accuracy: 0.9679\n",
      "Epoch: 230, Loss: 0.1690, Accuracy: 0.9679\n",
      "Epoch: 231, Loss: 0.1685, Accuracy: 0.9679\n",
      "Epoch: 232, Loss: 0.1680, Accuracy: 0.9679\n",
      "Epoch: 233, Loss: 0.1675, Accuracy: 0.9679\n",
      "Epoch: 234, Loss: 0.1670, Accuracy: 0.9679\n",
      "Epoch: 235, Loss: 0.1665, Accuracy: 0.9679\n",
      "Epoch: 236, Loss: 0.1661, Accuracy: 0.9679\n",
      "Epoch: 237, Loss: 0.1656, Accuracy: 0.9679\n",
      "Epoch: 238, Loss: 0.1651, Accuracy: 0.9679\n",
      "Epoch: 239, Loss: 0.1646, Accuracy: 0.9679\n",
      "Epoch: 240, Loss: 0.1642, Accuracy: 0.9679\n",
      "Epoch: 241, Loss: 0.1637, Accuracy: 0.9679\n",
      "Epoch: 242, Loss: 0.1633, Accuracy: 0.9679\n",
      "Epoch: 243, Loss: 0.1628, Accuracy: 0.9679\n",
      "Epoch: 244, Loss: 0.1624, Accuracy: 0.9679\n",
      "Epoch: 245, Loss: 0.1619, Accuracy: 0.9679\n",
      "Epoch: 246, Loss: 0.1615, Accuracy: 0.9679\n",
      "Epoch: 247, Loss: 0.1610, Accuracy: 0.9679\n",
      "Epoch: 248, Loss: 0.1606, Accuracy: 0.9679\n",
      "Epoch: 249, Loss: 0.1602, Accuracy: 0.9679\n",
      "Epoch: 250, Loss: 0.1598, Accuracy: 0.9679\n",
      "Epoch: 251, Loss: 0.1594, Accuracy: 0.9679\n",
      "Epoch: 252, Loss: 0.1590, Accuracy: 0.9679\n",
      "Epoch: 253, Loss: 0.1585, Accuracy: 0.9679\n",
      "Epoch: 254, Loss: 0.1581, Accuracy: 0.9679\n",
      "Epoch: 255, Loss: 0.1577, Accuracy: 0.9679\n",
      "Epoch: 256, Loss: 0.1573, Accuracy: 0.9679\n",
      "Epoch: 257, Loss: 0.1570, Accuracy: 0.9679\n",
      "Epoch: 258, Loss: 0.1566, Accuracy: 0.9679\n",
      "Epoch: 259, Loss: 0.1562, Accuracy: 0.9679\n",
      "Epoch: 260, Loss: 0.1558, Accuracy: 0.9679\n",
      "Epoch: 261, Loss: 0.1554, Accuracy: 0.9679\n",
      "Epoch: 262, Loss: 0.1551, Accuracy: 0.9679\n",
      "Epoch: 263, Loss: 0.1547, Accuracy: 0.9679\n",
      "Epoch: 264, Loss: 0.1543, Accuracy: 0.9679\n",
      "Epoch: 265, Loss: 0.1540, Accuracy: 0.9679\n",
      "Epoch: 266, Loss: 0.1536, Accuracy: 0.9679\n",
      "Epoch: 267, Loss: 0.1532, Accuracy: 0.9679\n",
      "Epoch: 268, Loss: 0.1529, Accuracy: 0.9679\n",
      "Epoch: 269, Loss: 0.1525, Accuracy: 0.9679\n",
      "Epoch: 270, Loss: 0.1522, Accuracy: 0.9679\n",
      "Epoch: 271, Loss: 0.1518, Accuracy: 0.9679\n",
      "Epoch: 272, Loss: 0.1515, Accuracy: 0.9679\n",
      "Epoch: 273, Loss: 0.1512, Accuracy: 0.9679\n",
      "Epoch: 274, Loss: 0.1508, Accuracy: 0.9679\n",
      "Epoch: 275, Loss: 0.1505, Accuracy: 0.9679\n",
      "Epoch: 276, Loss: 0.1502, Accuracy: 0.9679\n",
      "Epoch: 277, Loss: 0.1499, Accuracy: 0.9679\n",
      "Epoch: 278, Loss: 0.1495, Accuracy: 0.9679\n",
      "Epoch: 279, Loss: 0.1492, Accuracy: 0.9679\n",
      "Epoch: 280, Loss: 0.1489, Accuracy: 0.9679\n",
      "Epoch: 281, Loss: 0.1486, Accuracy: 0.9679\n",
      "Epoch: 282, Loss: 0.1483, Accuracy: 0.9679\n",
      "Epoch: 283, Loss: 0.1480, Accuracy: 0.9679\n",
      "Epoch: 284, Loss: 0.1477, Accuracy: 0.9679\n",
      "Epoch: 285, Loss: 0.1473, Accuracy: 0.9679\n",
      "Epoch: 286, Loss: 0.1470, Accuracy: 0.9679\n",
      "Epoch: 287, Loss: 0.1467, Accuracy: 0.9679\n",
      "Epoch: 288, Loss: 0.1465, Accuracy: 0.9679\n",
      "Epoch: 289, Loss: 0.1462, Accuracy: 0.9679\n",
      "Epoch: 290, Loss: 0.1459, Accuracy: 0.9679\n",
      "Epoch: 291, Loss: 0.1456, Accuracy: 0.9679\n",
      "Epoch: 292, Loss: 0.1453, Accuracy: 0.9679\n",
      "Epoch: 293, Loss: 0.1450, Accuracy: 0.9679\n",
      "Epoch: 294, Loss: 0.1447, Accuracy: 0.9679\n",
      "Epoch: 295, Loss: 0.1444, Accuracy: 0.9679\n",
      "Epoch: 296, Loss: 0.1442, Accuracy: 0.9679\n",
      "Epoch: 297, Loss: 0.1439, Accuracy: 0.9679\n",
      "Epoch: 298, Loss: 0.1436, Accuracy: 0.9679\n",
      "Epoch: 299, Loss: 0.1434, Accuracy: 0.9679\n",
      "Epoch: 300, Loss: 0.1431, Accuracy: 0.9679\n",
      "Epoch: 301, Loss: 0.1428, Accuracy: 0.9679\n",
      "Epoch: 302, Loss: 0.1426, Accuracy: 0.9679\n",
      "Epoch: 303, Loss: 0.1423, Accuracy: 0.9679\n",
      "Epoch: 304, Loss: 0.1420, Accuracy: 0.9679\n",
      "Epoch: 305, Loss: 0.1418, Accuracy: 0.9679\n",
      "Epoch: 306, Loss: 0.1415, Accuracy: 0.9679\n",
      "Epoch: 307, Loss: 0.1413, Accuracy: 0.9679\n",
      "Epoch: 308, Loss: 0.1410, Accuracy: 0.9679\n",
      "Epoch: 309, Loss: 0.1408, Accuracy: 0.9679\n",
      "Epoch: 310, Loss: 0.1405, Accuracy: 0.9679\n",
      "Epoch: 311, Loss: 0.1403, Accuracy: 0.9679\n",
      "Epoch: 312, Loss: 0.1400, Accuracy: 0.9679\n",
      "Epoch: 313, Loss: 0.1398, Accuracy: 0.9679\n",
      "Epoch: 314, Loss: 0.1395, Accuracy: 0.9679\n",
      "Epoch: 315, Loss: 0.1393, Accuracy: 0.9679\n",
      "Epoch: 316, Loss: 0.1391, Accuracy: 0.9679\n",
      "Epoch: 317, Loss: 0.1388, Accuracy: 0.9679\n",
      "Epoch: 318, Loss: 0.1386, Accuracy: 0.9679\n",
      "Epoch: 319, Loss: 0.1384, Accuracy: 0.9679\n",
      "Epoch: 320, Loss: 0.1381, Accuracy: 0.9679\n",
      "Epoch: 321, Loss: 0.1379, Accuracy: 0.9679\n",
      "Epoch: 322, Loss: 0.1377, Accuracy: 0.9679\n",
      "Epoch: 323, Loss: 0.1374, Accuracy: 0.9679\n",
      "Epoch: 324, Loss: 0.1372, Accuracy: 0.9679\n",
      "Epoch: 325, Loss: 0.1370, Accuracy: 0.9679\n",
      "Epoch: 326, Loss: 0.1368, Accuracy: 0.9679\n",
      "Epoch: 327, Loss: 0.1366, Accuracy: 0.9679\n",
      "Epoch: 328, Loss: 0.1363, Accuracy: 0.9679\n",
      "Epoch: 329, Loss: 0.1361, Accuracy: 0.9679\n",
      "Epoch: 330, Loss: 0.1359, Accuracy: 0.9679\n",
      "Epoch: 331, Loss: 0.1357, Accuracy: 0.9679\n",
      "Epoch: 332, Loss: 0.1355, Accuracy: 0.9679\n",
      "Epoch: 333, Loss: 0.1353, Accuracy: 0.9679\n",
      "Epoch: 334, Loss: 0.1351, Accuracy: 0.9679\n",
      "Epoch: 335, Loss: 0.1349, Accuracy: 0.9679\n",
      "Epoch: 336, Loss: 0.1346, Accuracy: 0.9679\n",
      "Epoch: 337, Loss: 0.1344, Accuracy: 0.9679\n",
      "Epoch: 338, Loss: 0.1342, Accuracy: 0.9679\n",
      "Epoch: 339, Loss: 0.1340, Accuracy: 0.9679\n",
      "Epoch: 340, Loss: 0.1338, Accuracy: 0.9679\n",
      "Epoch: 341, Loss: 0.1336, Accuracy: 0.9679\n",
      "Epoch: 342, Loss: 0.1334, Accuracy: 0.9679\n",
      "Epoch: 343, Loss: 0.1332, Accuracy: 0.9679\n",
      "Epoch: 344, Loss: 0.1330, Accuracy: 0.9679\n",
      "Epoch: 345, Loss: 0.1328, Accuracy: 0.9679\n",
      "Epoch: 346, Loss: 0.1327, Accuracy: 0.9679\n",
      "Epoch: 347, Loss: 0.1325, Accuracy: 0.9679\n",
      "Epoch: 348, Loss: 0.1323, Accuracy: 0.9679\n",
      "Epoch: 349, Loss: 0.1321, Accuracy: 0.9679\n",
      "Epoch: 350, Loss: 0.1319, Accuracy: 0.9679\n",
      "Epoch: 351, Loss: 0.1317, Accuracy: 0.9679\n",
      "Epoch: 352, Loss: 0.1315, Accuracy: 0.9679\n",
      "Epoch: 353, Loss: 0.1313, Accuracy: 0.9679\n",
      "Epoch: 354, Loss: 0.1312, Accuracy: 0.9679\n",
      "Epoch: 355, Loss: 0.1310, Accuracy: 0.9679\n",
      "Epoch: 356, Loss: 0.1308, Accuracy: 0.9679\n",
      "Epoch: 357, Loss: 0.1306, Accuracy: 0.9679\n",
      "Epoch: 358, Loss: 0.1304, Accuracy: 0.9679\n",
      "Epoch: 359, Loss: 0.1303, Accuracy: 0.9679\n",
      "Epoch: 360, Loss: 0.1301, Accuracy: 0.9679\n",
      "Epoch: 361, Loss: 0.1299, Accuracy: 0.9679\n",
      "Epoch: 362, Loss: 0.1297, Accuracy: 0.9679\n",
      "Epoch: 363, Loss: 0.1296, Accuracy: 0.9679\n",
      "Epoch: 364, Loss: 0.1294, Accuracy: 0.9679\n",
      "Epoch: 365, Loss: 0.1292, Accuracy: 0.9679\n",
      "Epoch: 366, Loss: 0.1290, Accuracy: 0.9679\n",
      "Epoch: 367, Loss: 0.1289, Accuracy: 0.9679\n",
      "Epoch: 368, Loss: 0.1287, Accuracy: 0.9679\n",
      "Epoch: 369, Loss: 0.1285, Accuracy: 0.9679\n",
      "Epoch: 370, Loss: 0.1284, Accuracy: 0.9679\n",
      "Epoch: 371, Loss: 0.1282, Accuracy: 0.9679\n",
      "Epoch: 372, Loss: 0.1280, Accuracy: 0.9679\n",
      "Epoch: 373, Loss: 0.1279, Accuracy: 0.9679\n",
      "Epoch: 374, Loss: 0.1277, Accuracy: 0.9679\n",
      "Epoch: 375, Loss: 0.1276, Accuracy: 0.9679\n",
      "Epoch: 376, Loss: 0.1274, Accuracy: 0.9679\n",
      "Epoch: 377, Loss: 0.1272, Accuracy: 0.9679\n",
      "Epoch: 378, Loss: 0.1271, Accuracy: 0.9679\n",
      "Epoch: 379, Loss: 0.1269, Accuracy: 0.9679\n",
      "Epoch: 380, Loss: 0.1268, Accuracy: 0.9679\n",
      "Epoch: 381, Loss: 0.1266, Accuracy: 0.9679\n",
      "Epoch: 382, Loss: 0.1264, Accuracy: 0.9679\n",
      "Epoch: 383, Loss: 0.1263, Accuracy: 0.9679\n",
      "Epoch: 384, Loss: 0.1261, Accuracy: 0.9679\n",
      "Epoch: 385, Loss: 0.1260, Accuracy: 0.9679\n",
      "Epoch: 386, Loss: 0.1258, Accuracy: 0.9679\n",
      "Epoch: 387, Loss: 0.1257, Accuracy: 0.9679\n",
      "Epoch: 388, Loss: 0.1255, Accuracy: 0.9679\n",
      "Epoch: 389, Loss: 0.1254, Accuracy: 0.9679\n",
      "Epoch: 390, Loss: 0.1252, Accuracy: 0.9679\n",
      "Epoch: 391, Loss: 0.1251, Accuracy: 0.9679\n",
      "Epoch: 392, Loss: 0.1249, Accuracy: 0.9679\n",
      "Epoch: 393, Loss: 0.1248, Accuracy: 0.9679\n",
      "Epoch: 394, Loss: 0.1246, Accuracy: 0.9679\n",
      "Epoch: 395, Loss: 0.1245, Accuracy: 0.9679\n",
      "Epoch: 396, Loss: 0.1244, Accuracy: 0.9679\n",
      "Epoch: 397, Loss: 0.1242, Accuracy: 0.9679\n",
      "Epoch: 398, Loss: 0.1241, Accuracy: 0.9679\n",
      "Epoch: 399, Loss: 0.1239, Accuracy: 0.9679\n",
      "Epoch: 400, Loss: 0.1238, Accuracy: 0.9679\n",
      "Epoch: 401, Loss: 0.1237, Accuracy: 0.9679\n",
      "Epoch: 402, Loss: 0.1235, Accuracy: 0.9679\n",
      "Epoch: 403, Loss: 0.1234, Accuracy: 0.9679\n",
      "Epoch: 404, Loss: 0.1232, Accuracy: 0.9679\n",
      "Epoch: 405, Loss: 0.1231, Accuracy: 0.9679\n",
      "Epoch: 406, Loss: 0.1230, Accuracy: 0.9679\n",
      "Epoch: 407, Loss: 0.1228, Accuracy: 0.9679\n",
      "Epoch: 408, Loss: 0.1227, Accuracy: 0.9679\n",
      "Epoch: 409, Loss: 0.1226, Accuracy: 0.9679\n",
      "Epoch: 410, Loss: 0.1224, Accuracy: 0.9679\n",
      "Epoch: 411, Loss: 0.1223, Accuracy: 0.9679\n",
      "Epoch: 412, Loss: 0.1222, Accuracy: 0.9679\n",
      "Epoch: 413, Loss: 0.1220, Accuracy: 0.9679\n",
      "Epoch: 414, Loss: 0.1219, Accuracy: 0.9679\n",
      "Epoch: 415, Loss: 0.1218, Accuracy: 0.9679\n",
      "Epoch: 416, Loss: 0.1216, Accuracy: 0.9679\n",
      "Epoch: 417, Loss: 0.1215, Accuracy: 0.9679\n",
      "Epoch: 418, Loss: 0.1214, Accuracy: 0.9679\n",
      "Epoch: 419, Loss: 0.1212, Accuracy: 0.9679\n",
      "Epoch: 420, Loss: 0.1211, Accuracy: 0.9679\n",
      "Epoch: 421, Loss: 0.1210, Accuracy: 0.9679\n",
      "Epoch: 422, Loss: 0.1209, Accuracy: 0.9679\n",
      "Epoch: 423, Loss: 0.1207, Accuracy: 0.9679\n",
      "Epoch: 424, Loss: 0.1206, Accuracy: 0.9679\n",
      "Epoch: 425, Loss: 0.1205, Accuracy: 0.9679\n",
      "Epoch: 426, Loss: 0.1204, Accuracy: 0.9679\n",
      "Epoch: 427, Loss: 0.1203, Accuracy: 0.9679\n",
      "Epoch: 428, Loss: 0.1201, Accuracy: 0.9679\n",
      "Epoch: 429, Loss: 0.1200, Accuracy: 0.9679\n",
      "Epoch: 430, Loss: 0.1199, Accuracy: 0.9679\n",
      "Epoch: 431, Loss: 0.1198, Accuracy: 0.9679\n",
      "Epoch: 432, Loss: 0.1196, Accuracy: 0.9679\n",
      "Epoch: 433, Loss: 0.1195, Accuracy: 0.9679\n",
      "Epoch: 434, Loss: 0.1194, Accuracy: 0.9679\n",
      "Epoch: 435, Loss: 0.1193, Accuracy: 0.9679\n",
      "Epoch: 436, Loss: 0.1192, Accuracy: 0.9679\n",
      "Epoch: 437, Loss: 0.1191, Accuracy: 0.9679\n",
      "Epoch: 438, Loss: 0.1189, Accuracy: 0.9679\n",
      "Epoch: 439, Loss: 0.1188, Accuracy: 0.9679\n",
      "Epoch: 440, Loss: 0.1187, Accuracy: 0.9679\n",
      "Epoch: 441, Loss: 0.1186, Accuracy: 0.9679\n",
      "Epoch: 442, Loss: 0.1185, Accuracy: 0.9679\n",
      "Epoch: 443, Loss: 0.1184, Accuracy: 0.9679\n",
      "Epoch: 444, Loss: 0.1182, Accuracy: 0.9679\n",
      "Epoch: 445, Loss: 0.1181, Accuracy: 0.9679\n",
      "Epoch: 446, Loss: 0.1180, Accuracy: 0.9679\n",
      "Epoch: 447, Loss: 0.1179, Accuracy: 0.9679\n",
      "Epoch: 448, Loss: 0.1178, Accuracy: 0.9679\n",
      "Epoch: 449, Loss: 0.1177, Accuracy: 0.9679\n",
      "Epoch: 450, Loss: 0.1176, Accuracy: 0.9679\n",
      "Epoch: 451, Loss: 0.1175, Accuracy: 0.9679\n",
      "Epoch: 452, Loss: 0.1174, Accuracy: 0.9679\n",
      "Epoch: 453, Loss: 0.1172, Accuracy: 0.9679\n",
      "Epoch: 454, Loss: 0.1171, Accuracy: 0.9679\n",
      "Epoch: 455, Loss: 0.1170, Accuracy: 0.9679\n",
      "Epoch: 456, Loss: 0.1169, Accuracy: 0.9679\n",
      "Epoch: 457, Loss: 0.1168, Accuracy: 0.9679\n",
      "Epoch: 458, Loss: 0.1167, Accuracy: 0.9679\n",
      "Epoch: 459, Loss: 0.1166, Accuracy: 0.9679\n",
      "Epoch: 460, Loss: 0.1165, Accuracy: 0.9679\n",
      "Epoch: 461, Loss: 0.1164, Accuracy: 0.9679\n",
      "Epoch: 462, Loss: 0.1163, Accuracy: 0.9679\n",
      "Epoch: 463, Loss: 0.1162, Accuracy: 0.9679\n",
      "Epoch: 464, Loss: 0.1161, Accuracy: 0.9679\n",
      "Epoch: 465, Loss: 0.1160, Accuracy: 0.9679\n",
      "Epoch: 466, Loss: 0.1159, Accuracy: 0.9679\n",
      "Epoch: 467, Loss: 0.1158, Accuracy: 0.9679\n",
      "Epoch: 468, Loss: 0.1157, Accuracy: 0.9679\n",
      "Epoch: 469, Loss: 0.1156, Accuracy: 0.9679\n",
      "Epoch: 470, Loss: 0.1155, Accuracy: 0.9679\n",
      "Epoch: 471, Loss: 0.1154, Accuracy: 0.9679\n",
      "Epoch: 472, Loss: 0.1153, Accuracy: 0.9679\n",
      "Epoch: 473, Loss: 0.1152, Accuracy: 0.9679\n",
      "Epoch: 474, Loss: 0.1151, Accuracy: 0.9679\n",
      "Epoch: 475, Loss: 0.1150, Accuracy: 0.9679\n",
      "Epoch: 476, Loss: 0.1149, Accuracy: 0.9679\n",
      "Epoch: 477, Loss: 0.1148, Accuracy: 0.9679\n",
      "Epoch: 478, Loss: 0.1147, Accuracy: 0.9679\n",
      "Epoch: 479, Loss: 0.1146, Accuracy: 0.9679\n",
      "Epoch: 480, Loss: 0.1145, Accuracy: 0.9679\n",
      "Epoch: 481, Loss: 0.1144, Accuracy: 0.9679\n",
      "Epoch: 482, Loss: 0.1143, Accuracy: 0.9679\n",
      "Epoch: 483, Loss: 0.1142, Accuracy: 0.9679\n",
      "Epoch: 484, Loss: 0.1141, Accuracy: 0.9679\n",
      "Epoch: 485, Loss: 0.1140, Accuracy: 0.9679\n",
      "Epoch: 486, Loss: 0.1139, Accuracy: 0.9679\n",
      "Epoch: 487, Loss: 0.1138, Accuracy: 0.9679\n",
      "Epoch: 488, Loss: 0.1137, Accuracy: 0.9679\n",
      "Epoch: 489, Loss: 0.1136, Accuracy: 0.9679\n",
      "Epoch: 490, Loss: 0.1135, Accuracy: 0.9679\n",
      "Epoch: 491, Loss: 0.1134, Accuracy: 0.9679\n",
      "Epoch: 492, Loss: 0.1133, Accuracy: 0.9679\n",
      "Epoch: 493, Loss: 0.1132, Accuracy: 0.9679\n",
      "Epoch: 494, Loss: 0.1132, Accuracy: 0.9679\n",
      "Epoch: 495, Loss: 0.1131, Accuracy: 0.9679\n",
      "Epoch: 496, Loss: 0.1130, Accuracy: 0.9679\n",
      "Epoch: 497, Loss: 0.1129, Accuracy: 0.9679\n",
      "Epoch: 498, Loss: 0.1128, Accuracy: 0.9679\n",
      "Epoch: 499, Loss: 0.1127, Accuracy: 0.9679\n"
     ]
    },
    {
     "data": {
      "image/png": "[encoded data removed]",
      "text/plain": [
       "<Figure size 600x600 with 1 Axes>"
      ]
     },
     "metadata": {},
     "output_type": "display_data"
    }
   ],
   "source": [
    "from torch.optim import SGD\n",
    "import torch.nn as nn\n",
    "\n",
    "def accuracy(pred, label):\n",
    "  # TODO: Implement the accuracy function. This function takes the \n",
    "  # pred tensor (the resulting tensor after sigmoid) and the label \n",
    "  # tensor (torch.LongTensor). Predicted value greater than 0.5 will \n",
    "  # be classified as label 1. Else it will be classified as label 0.\n",
    "  # The returned accuracy should be rounded to 4 decimal places. \n",
    "  # For example, accuracy 0.82956 will be rounded to 0.8296.\n",
    "\n",
    "  accu = 0.0\n",
    "\n",
    "  ############# Your code here ############\n",
    "  count = torch.sum(torch.round(pred) == label)\n",
    "  accu = count / pred.shape[0]\n",
    "  accu = round(accu.item(), 4)\n",
    "  #########################################\n",
    "\n",
    "  return accu\n",
    "\n",
    "def train(emb, loss_fn, sigmoid, train_label, train_edge):\n",
    "  # TODO: Train the embedding layer here. You can also change epochs and \n",
    "  # learning rate. In general, you need to implement: \n",
    "  # (1) Get the embeddings of the nodes in train_edge\n",
    "  # (2) Dot product the embeddings between each node pair\n",
    "  # (3) Feed the dot product result into sigmoid\n",
    "  # (4) Feed the sigmoid output into the loss_fn\n",
    "  # (5) Print both loss and accuracy of each epoch \n",
    "  # (6) Update the embeddings using the loss and optimizer \n",
    "  # (as a sanity check, the loss should decrease during training)\n",
    "\n",
    "  epochs = 500\n",
    "  learning_rate = 0.1\n",
    "\n",
    "  optimizer = SGD(emb.parameters(), lr=learning_rate, momentum=0.9)\n",
    "\n",
    "  for i in range(epochs):\n",
    "    ############# Your code here ############\n",
    "    optimizer.zero_grad()\n",
    "\n",
    "    z = emb(train_edge) # (1)\n",
    "    sim = torch.sum(z[0] * z[1], dim=-1) # (2)\n",
    "    pred = torch.sigmoid(sim) # (3)\n",
    "    loss = loss_fn(pred, train_label) # (4)\n",
    "    print(f'Epoch: {i}, Loss: {loss:.4f}, Accuracy: {accuracy(pred, train_label)}') # (5)\n",
    "    loss.backward() # (6)\n",
    "    optimizer.step() # (6)\n",
    "    #########################################\n",
    "\n",
    "loss_fn = nn.BCELoss()\n",
    "sigmoid = nn.Sigmoid()\n",
    "\n",
    "print(pos_edge_index.shape)\n",
    "\n",
    "# Generate the positive and negative labels\n",
    "pos_label = torch.ones(pos_edge_index.shape[1], )\n",
    "neg_label = torch.zeros(neg_edge_index.shape[1], )\n",
    "\n",
    "# Concat positive and negative labels into one tensor\n",
    "train_label = torch.cat([pos_label, neg_label], dim=0)\n",
    "\n",
    "# Concat positive and negative edges into one tensor\n",
    "# Since the network is very small, we do not split the edges into val/test sets\n",
    "train_edge = torch.cat([pos_edge_index, neg_edge_index], dim=1)\n",
    "print(train_edge.shape)\n",
    "\n",
    "emb = create_node_emb()\n",
    "train(emb, loss_fn, sigmoid, train_label, train_edge)\n",
    "\n",
    "visualize_emb(emb)"
   ]
  },
  {
   "cell_type": "code",
   "execution_count": 1,
   "metadata": {},
   "outputs": [
    {
     "data": {
      "application/vnd.jupyter.widget-view+json": {
       "model_id": "15a212befe2f42c383b767d8999b41ac",
       "version_major": 2,
       "version_minor": 0
      },
      "text/plain": [
       "Downloading tokenizer_config.json:   0%|          | 0.00/363 [00:00<?, ?B/s]"
      ]
     },
     "metadata": {},
     "output_type": "display_data"
    },
    {
     "data": {
      "application/vnd.jupyter.widget-view+json": {
       "model_id": "f957b224947b4b7382b60e578d67f4e7",
       "version_major": 2,
       "version_minor": 0
      },
      "text/plain": [
       "Downloading vocab.txt:   0%|          | 0.00/232k [00:00<?, ?B/s]"
      ]
     },
     "metadata": {},
     "output_type": "display_data"
    },
    {
     "data": {
      "application/vnd.jupyter.widget-view+json": {
       "model_id": "f04287ee7cd3408c97108c9007ffd310",
       "version_major": 2,
       "version_minor": 0
      },
      "text/plain": [
       "Downloading tokenizer.json:   0%|          | 0.00/466k [00:00<?, ?B/s]"
      ]
     },
     "metadata": {},
     "output_type": "display_data"
    },
    {
     "data": {
      "application/vnd.jupyter.widget-view+json": {
       "model_id": "d0a4bed916244ffcb2871861a39106eb",
       "version_major": 2,
       "version_minor": 0
      },
      "text/plain": [
       "Downloading (…)cial_tokens_map.json:   0%|          | 0.00/239 [00:00<?, ?B/s]"
      ]
     },
     "metadata": {},
     "output_type": "display_data"
    },
    {
     "data": {
      "application/vnd.jupyter.widget-view+json": {
       "model_id": "6494391a20e748458248d23c19ceb225",
       "version_major": 2,
       "version_minor": 0
      },
      "text/plain": [
       "Downloading config.json:   0%|          | 0.00/571 [00:00<?, ?B/s]"
      ]
     },
     "metadata": {},
     "output_type": "display_data"
    },
    {
     "data": {
      "application/vnd.jupyter.widget-view+json": {
       "model_id": "261a7b5c51ff4488853c34d8581bc836",
       "version_major": 2,
       "version_minor": 0
      },
      "text/plain": [
       "Downloading pytorch_model.bin:   0%|          | 0.00/438M [00:00<?, ?B/s]"
      ]
     },
     "metadata": {},
     "output_type": "display_data"
    },
    {
     "name": "stdout",
     "output_type": "stream",
     "text": [
      "Sentence embeddings:\n",
      "tensor([[ 0.0225, -0.0783, -0.0230,  ..., -0.0083,  0.0265, -0.0020],\n",
      "        [ 0.0417,  0.0011, -0.0155,  ..., -0.0218, -0.0636, -0.0088]])\n"
     ]
    }
   ],
   "source": [
    "from transformers import AutoTokenizer, AutoModel\n",
    "import torch\n",
    "import torch.nn.functional as F\n",
    "\n",
    "#Mean Pooling - Take attention mask into account for correct averaging\n",
    "def mean_pooling(model_output, attention_mask):\n",
    "    token_embeddings = model_output[0] #First element of model_output contains all token embeddings\n",
    "    input_mask_expanded = attention_mask.unsqueeze(-1).expand(token_embeddings.size()).float()\n",
    "    return torch.sum(token_embeddings * input_mask_expanded, 1) / torch.clamp(input_mask_expanded.sum(1), min=1e-9)\n",
    "\n",
    "\n",
    "# Sentences we want sentence embeddings for\n",
    "sentences = ['This is an example sentence', 'Each sentence is converted']\n",
    "\n",
    "# Load model from HuggingFace Hub\n",
    "tokenizer = AutoTokenizer.from_pretrained('sentence-transformers/all-mpnet-base-v2')\n",
    "model = AutoModel.from_pretrained('sentence-transformers/all-mpnet-base-v2')\n",
    "\n",
    "# Tokenize sentences\n",
    "encoded_input = tokenizer(sentences, padding=True, truncation=True, return_tensors='pt')\n",
    "\n",
    "# Compute token embeddings\n",
    "with torch.no_grad():\n",
    "    model_output = model(**encoded_input)\n",
    "\n",
    "# Perform pooling\n",
    "sentence_embeddings = mean_pooling(model_output, encoded_input['attention_mask'])\n",
    "\n",
    "# Normalize embeddings\n",
    "sentence_embeddings = F.normalize(sentence_embeddings, p=2, dim=1)\n",
    "\n",
    "print(\"Sentence embeddings:\")\n",
    "print(sentence_embeddings)"
   ]
  },
  {
   "cell_type": "code",
   "execution_count": 10,
   "metadata": {},
   "outputs": [
    {
     "name": "stdout",
     "output_type": "stream",
     "text": [
      "below are facts that might be relevant to answer the question : ( 2026 fifa world cup, point in timefrica, instance of, continent ), ( north american free trade agreement, instance of, free - trade relations ), ( athapascof, language families ), ( caribbean community and common market, instance of, free - trade relations ), ( europe, instanent ), ( english, instance of, national language ), ( caricom office of trade negotiations, field of work, free - trade a( lewis and clark, instance of, overland exploration ), ( adams – onis treaty, point in time, 1819 ) question : what is tllest mountain in north america? Answer : here\n",
      " here\n"
     ]
    }
   ],
   "source": [
    "answer = [{'generated_text': 'below are facts that might be relevant to answer the question : ( 2026 fifa world cup, point in timefrica, instance of, continent ), ( north american free trade agreement, instance of, free - trade relations ), ( athapascof, language families ), ( caribbean community and common market, instance of, free - trade relations ), ( europe, instanent ), ( english, instance of, national language ), ( caricom office of trade negotiations, field of work, free - trade a( lewis and clark, instance of, overland exploration ), ( adams – onis treaty, point in time, 1819 ) question : what is tllest mountain in north america? Answer : here'}]\n",
    "print(answer[0]['generated_text'])\n",
    "print(answer[0]['generated_text'].split('Answer :', 1)[-1])\n"
   ]
  },
  {
   "cell_type": "code",
   "execution_count": 11,
   "metadata": {},
   "outputs": [
    {
     "ename": "ImportError",
     "evalue": "attempted relative import with no known parent package",
     "output_type": "error",
     "traceback": [
      "\u001b[0;31m---------------------------------------------------------------------------\u001b[0m",
      "\u001b[0;31mImportError\u001b[0m                               Traceback (most recent call last)",
      "Cell \u001b[0;32mIn[11], line 6\u001b[0m\n\u001b[1;32m      4\u001b[0m \u001b[38;5;28;01mimport\u001b[39;00m \u001b[38;5;21;01mjson\u001b[39;00m\n\u001b[1;32m      5\u001b[0m \u001b[38;5;28;01mfrom\u001b[39;00m \u001b[38;5;21;01mtqdm\u001b[39;00m \u001b[38;5;28;01mimport\u001b[39;00m tqdm\n\u001b[0;32m----> 6\u001b[0m \u001b[38;5;28;01mfrom\u001b[39;00m \u001b[38;5;21;01m.\u001b[39;00m\u001b[38;5;21;01mconceptnet\u001b[39;00m \u001b[38;5;28;01mimport\u001b[39;00m merged_relations\n\u001b[1;32m      7\u001b[0m \u001b[38;5;28;01mimport\u001b[39;00m \u001b[38;5;21;01mnumpy\u001b[39;00m \u001b[38;5;28;01mas\u001b[39;00m \u001b[38;5;21;01mnp\u001b[39;00m\n\u001b[1;32m      8\u001b[0m \u001b[38;5;28;01mfrom\u001b[39;00m \u001b[38;5;21;01mscipy\u001b[39;00m \u001b[38;5;28;01mimport\u001b[39;00m sparse\n",
      "\u001b[0;31mImportError\u001b[0m: attempted relative import with no known parent package"
     ]
    }
   ],
   "source": []
  },
  {
   "cell_type": "code",
   "execution_count": 1,
   "metadata": {},
   "outputs": [
    {
     "data": {
      "application/vnd.jupyter.widget-view+json": {
       "model_id": "9f26e045246d41879ab6477626abe8aa",
       "version_major": 2,
       "version_minor": 0
      },
      "text/plain": [
       "preprocessor_config.json:   0%|          | 0.00/445 [00:00<?, ?B/s]"
      ]
     },
     "metadata": {},
     "output_type": "display_data"
    },
    {
     "data": {
      "application/vnd.jupyter.widget-view+json": {
       "model_id": "888ae4989a9a40e5985d668b2c8206f7",
       "version_major": 2,
       "version_minor": 0
      },
      "text/plain": [
       "tokenizer_config.json:   0%|          | 0.00/527 [00:00<?, ?B/s]"
      ]
     },
     "metadata": {},
     "output_type": "display_data"
    },
    {
     "data": {
      "application/vnd.jupyter.widget-view+json": {
       "model_id": "ca6838a6f86c4cedafb23950597ebfe7",
       "version_major": 2,
       "version_minor": 0
      },
      "text/plain": [
       "vocab.txt:   0%|          | 0.00/232k [00:00<?, ?B/s]"
      ]
     },
     "metadata": {},
     "output_type": "display_data"
    },
    {
     "data": {
      "application/vnd.jupyter.widget-view+json": {
       "model_id": "895f16a42eeb4c73bbb40aea86c2fc9c",
       "version_major": 2,
       "version_minor": 0
      },
      "text/plain": [
       "tokenizer.json:   0%|          | 0.00/711k [00:00<?, ?B/s]"
      ]
     },
     "metadata": {},
     "output_type": "display_data"
    },
    {
     "data": {
      "application/vnd.jupyter.widget-view+json": {
       "model_id": "a1c2ecd0689f4741ae10e692bc3f7bb2",
       "version_major": 2,
       "version_minor": 0
      },
      "text/plain": [
       "special_tokens_map.json:   0%|          | 0.00/125 [00:00<?, ?B/s]"
      ]
     },
     "metadata": {},
     "output_type": "display_data"
    },
    {
     "data": {
      "application/vnd.jupyter.widget-view+json": {
       "model_id": "7bf7364f15b7486fadda5d9e1d06e1e7",
       "version_major": 2,
       "version_minor": 0
      },
      "text/plain": [
       "config.json:   0%|          | 0.00/4.60k [00:00<?, ?B/s]"
      ]
     },
     "metadata": {},
     "output_type": "display_data"
    },
    {
     "data": {
      "application/vnd.jupyter.widget-view+json": {
       "model_id": "147859141d274902a6249df7855d8051",
       "version_major": 2,
       "version_minor": 0
      },
      "text/plain": [
       "model.safetensors:   0%|          | 0.00/1.88G [00:00<?, ?B/s]"
      ]
     },
     "metadata": {},
     "output_type": "display_data"
    },
    {
     "name": "stderr",
     "output_type": "stream",
     "text": [
      "/home/user2/anaconda3/envs/py3_10_RSG/lib/python3.10/site-packages/transformers/generation/utils.py:1133: UserWarning: Using the model-agnostic default `max_length` (=20) to control the generation length. We recommend setting `max_new_tokens` to control the maximum length of the generation.\n",
      "  warnings.warn(\n"
     ]
    },
    {
     "name": "stdout",
     "output_type": "stream",
     "text": [
      "a photography of a woman and her dog on the beach\n",
      "woman sitting on the beach with her dog and a cell phone\n"
     ]
    },
    {
     "ename": "",
     "evalue": "",
     "output_type": "error",
     "traceback": [
      "\u001b[1;31mThe Kernel crashed while executing code in the current cell or a previous cell. \n",
      "\u001b[1;31mPlease review the code in the cell(s) to identify a possible cause of the failure. \n",
      "\u001b[1;31mClick <a href='https://aka.ms/vscodeJupyterKernelCrash'>here</a> for more info. \n",
      "\u001b[1;31mView Jupyter <a href='command:jupyter.viewOutput'>log</a> for further details."
     ]
    }
   ],
   "source": [
    "import requests\n",
    "from PIL import Image\n",
    "from transformers import BlipProcessor, BlipForConditionalGeneration\n",
    "\n",
    "processor = BlipProcessor.from_pretrained(\"Salesforce/blip-image-captioning-large\")\n",
    "model = BlipForConditionalGeneration.from_pretrained(\"Salesforce/blip-image-captioning-large\").to(\"cuda\")\n",
    "\n",
    "img_url = 'https://storage.googleapis.com/sfr-vision-language-research/BLIP/demo.jpg' \n",
    "raw_image = Image.open(requests.get(img_url, stream=True).raw).convert('RGB')\n",
    "\n",
    "# conditional image captioning\n",
    "text = \"a photography of\"\n",
    "inputs = processor(raw_image, text, return_tensors=\"pt\").to(\"cuda\")\n",
    "\n",
    "out = model.generate(**inputs)\n",
    "print(processor.decode(out[0], skip_special_tokens=True))\n",
    "\n",
    "# unconditional image captioning\n",
    "inputs = processor(raw_image, return_tensors=\"pt\").to(\"cuda\")\n",
    "\n",
    "out = model.generate(**inputs)\n",
    "print(processor.decode(out[0], skip_special_tokens=True))"
   ]
  }
 ],
 "metadata": {
  "kernelspec": {
   "display_name": "Python 3.7.16 ('RSG')",
   "language": "python",
   "name": "python3"
  },
  "language_info": {
   "codemirror_mode": {
    "name": "ipython",
    "version": 3
   },
   "file_extension": ".py",
   "mimetype": "text/x-python",
   "name": "python",
   "nbconvert_exporter": "python",
   "pygments_lexer": "ipython3",
   "version": "3.10.0"
  },
  "orig_nbformat": 4,
  "vscode": {
   "interpreter": {
    "hash": "ece9e7c00bc86c06dc0eeeb923f432e655eb18ebf7ab7f680ff9577ef913393d"
   }
  }
 },
 "nbformat": 4,
 "nbformat_minor": 2
}
