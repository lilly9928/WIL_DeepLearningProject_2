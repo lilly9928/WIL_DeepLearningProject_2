{
 "cells": [
  {
   "cell_type": "code",
   "execution_count": 2,
   "metadata": {},
   "outputs": [],
   "source": [
    "import pandas as pd\n",
    "import json"
   ]
  },
  {
   "cell_type": "code",
   "execution_count": 17,
   "metadata": {},
   "outputs": [
    {
     "name": "stdout",
     "output_type": "stream",
     "text": [
      "{'id': '90b30172e645ff91f7171a048582eb8b', 'question': {'question_concept': 'townhouse', 'choices': [{'label': 'A', 'text': 'suburban development'}, {'label': 'B', 'text': 'apartment building'}, {'label': 'C', 'text': 'bus stop'}, {'label': 'D', 'text': 'michigan'}, {'label': 'E', 'text': 'suburbs'}], 'stem': 'The townhouse was a hard sell for the realtor, it was right next to a high rise what?'}, 'statements': [{'label': True, 'statement': 'The townhouse was a hard sell for the realtor, it was right next to a high rise suburban development.'}, {'label': False, 'statement': 'The townhouse was a hard sell for the realtor, it was right next to a high rise apartment building.'}, {'label': False, 'statement': 'The townhouse was a hard sell for the realtor, it was right next to a high rise bus stop.'}, {'label': False, 'statement': 'The townhouse was a hard sell for the realtor, it was right next to a high rise michigan.'}, {'label': False, 'statement': 'The townhouse was a hard sell for the realtor, it was right next to a high rise suburbs.'}]}\n"
     ]
    }
   ],
   "source": [
    "file_path = '/data2/KJE/RSG/data/csqa/statement/test.statement.jsonl'\n",
    "\n",
    "json_data = []\n",
    "with open(file_path, 'r') as f:\n",
    "    for line in f:\n",
    "        json_data.append(json.loads(line))\n",
    "        \n",
    "print(json_data[0])"
   ]
  },
  {
   "cell_type": "code",
   "execution_count": 11,
   "metadata": {},
   "outputs": [
    {
     "name": "stdout",
     "output_type": "stream",
     "text": [
      "{'answerKey': 'A', 'id': '075e483d21c29a511267ef62bedc0461', 'question': {'question_concept': 'punishing', 'choices': [{'label': 'A', 'text': 'ignore'}, {'label': 'B', 'text': 'enforce'}, {'label': 'C', 'text': 'authoritarian'}, {'label': 'D', 'text': 'yell at'}, {'label': 'E', 'text': 'avoid'}], 'stem': 'The sanctions against the school were a punishing blow, and they seemed to what the efforts the school had made to change?'}, 'statements': [{'label': True, 'statement': 'The sanctions against the school were a punishing blow, and they seemed to ignore the efforts the school had made to change.'}, {'label': False, 'statement': 'The sanctions against the school were a punishing blow, and they seemed to enforce the efforts the school had made to change.'}, {'label': False, 'statement': 'The sanctions against the school were a punishing blow, and they seemed to authoritarian the efforts the school had made to change.'}, {'label': False, 'statement': 'The sanctions against the school were a punishing blow, and they seemed to yell at the efforts the school had made to change.'}, {'label': False, 'statement': 'The sanctions against the school were a punishing blow, and they seemed to avoid the efforts the school had made to change.'}]}\n"
     ]
    }
   ],
   "source": [
    "file_path = '/data2/KJE/RSG/data/csqa/statement/train.statement.jsonl'\n",
    "\n",
    "json_data = []\n",
    "with open(file_path, 'r') as f:\n",
    "    for line in f:\n",
    "        json_data.append(json.loads(line))\n",
    "        \n",
    "print(json_data[0])"
   ]
  },
  {
   "cell_type": "code",
   "execution_count": 12,
   "metadata": {},
   "outputs": [
    {
     "name": "stdout",
     "output_type": "stream",
     "text": [
      "{'movie': '3042_KARATE_KID', 'objects': ['person', 'person', 'person', 'person', 'person', 'person', 'person', 'person', 'person', 'person', 'person', 'person', 'person', 'person', 'person', 'person', 'person', 'person', 'person', 'person'], 'img_fn': 'lsmdc_3042_KARATE_KID/3042_KARATE_KID_02.01.03.657-02.01.12.044@0.jpg', 'metadata_fn': 'lsmdc_3042_KARATE_KID/3042_KARATE_KID_02.01.03.657-02.01.12.044@0.json', 'question': ['What', 'is', [0], 'doing', 'here', '?'], 'answer_choices': [[[0], 'is', 'holding', 'an', 'international', 'press', 'conference', '.'], [[0], 'is', 'competing', 'in', 'an', 'athletic', 'event', '.'], [[0], 'came', 'here', 'to', 'tell', 'something', 'to', [0], '.'], [[0], 'is', 'working', 'as', 'a', 'police', 'office', '.']], 'rationale_choices': [[[0], 'appears', 'to', 'be', 'completing', 'a', 'flip', 'with', 'a', 'crowd', 'of', 'people', 'behind', 'him', '.'], [[1], 'is', 'facing', 'the', 'pole', ',', 'his', 'body', 'is', 'leaning', 'forward', 'and', 'his', 'legs', 'are', 'in', 'a', 'running', 'position', '.'], [[0], 'is', 'wearing', 'a', 'martial', 'arts', 'uniform', ',', 'and', 'there', 'is', 'a', 'crowd', 'behind', 'him', 'watching', '.'], [[7], 'is', 'wearing', 'a', 'gi', 'and', 'has', 'a', 'stance', 'like', 'he', 'is', 'fighting', '.']], 'img_id': 'test-0', 'question_number': 0, 'annot_id': 'test-0', 'match_fold': 'test-0', 'match_index': 0}\n"
     ]
    }
   ],
   "source": [
    "file_path = '/data2/KJE/VCR/test.jsonl'\n",
    "\n",
    "json_data = []\n",
    "with open(file_path, 'r') as f:\n",
    "    for line in f:\n",
    "        json_data.append(json.loads(line))\n",
    "        \n",
    "print(json_data[0])"
   ]
  },
  {
   "cell_type": "code",
   "execution_count": 13,
   "metadata": {},
   "outputs": [
    {
     "name": "stdout",
     "output_type": "stream",
     "text": [
      "{'movie': '3015_CHARLIE_ST_CLOUD', 'objects': ['person', 'person', 'person', 'car'], 'interesting_scores': [0], 'answer_likelihood': 'possible', 'img_fn': 'lsmdc_3015_CHARLIE_ST_CLOUD/3015_CHARLIE_ST_CLOUD_00.23.57.935-00.24.00.783@0.jpg', 'metadata_fn': 'lsmdc_3015_CHARLIE_ST_CLOUD/3015_CHARLIE_ST_CLOUD_00.23.57.935-00.24.00.783@0.json', 'answer_orig': 'No she does not', 'question_orig': 'Does 3 feel comfortable?', 'rationale_orig': 'She is standing with her arms crossed and looks disturbed', 'question': ['Does', [2], 'feel', 'comfortable', '?'], 'answer_match_iter': [3, 0, 2, 1], 'answer_sources': [3287, 0, 10184, 2260], 'answer_choices': [['Yes', 'because', 'the', 'person', 'sitting', 'next', 'to', 'her', 'is', 'smiling', '.'], ['No', 'she', 'does', 'not', '.'], ['Yes', ',', 'she', 'is', 'wearing', 'something', 'with', 'thin', 'straps', '.'], ['Yes', ',', 'she', 'is', 'cold', '.']], 'answer_label': 1, 'rationale_choices': [['There', 'is', 'snow', 'on', 'the', 'ground', ',', 'and', 'she', 'is', 'wearing', 'a', 'coat', 'and', 'hate', '.'], ['She', 'is', 'standing', 'with', 'her', 'arms', 'crossed', 'and', 'looks', 'disturbed', '.'], ['She', 'is', 'sitting', 'very', 'rigidly', 'and', 'tensely', 'on', 'the', 'edge', 'of', 'the', 'bed', '.', 'her', 'posture', 'is', 'not', 'relaxed', 'and', 'her', 'face', 'looks', 'serious', '.'], [[2], 'is', 'laying', 'in', 'bed', 'but', 'not', 'sleeping', '.', 'she', 'looks', 'sad', 'and', 'is', 'curled', 'into', 'a', 'ball', '.']], 'rationale_sources': [1921, 0, 9750, 25743], 'rationale_match_iter': [3, 0, 2, 1], 'rationale_label': 1, 'img_id': 'train-0', 'question_number': 0, 'annot_id': 'train-0', 'match_fold': 'train-0', 'match_index': 0}\n"
     ]
    }
   ],
   "source": [
    "file_path = '/data2/KJE/VCR/train.jsonl'\n",
    "\n",
    "json_data = []\n",
    "with open(file_path, 'r') as f:\n",
    "    for line in f:\n",
    "        json_data.append(json.loads(line))\n",
    "        \n",
    "print(json_data[0])"
   ]
  },
  {
   "cell_type": "code",
   "execution_count": 19,
   "metadata": {},
   "outputs": [
    {
     "name": "stdout",
     "output_type": "stream",
     "text": [
      "{'movie': '1054_Harry_Potter_and_the_prisoner_of_azkaban', 'objects': ['person', 'person', 'person', 'car', 'cellphone', 'clock'], 'interesting_scores': [-1, 0], 'answer_likelihood': 'likely', 'img_fn': 'lsmdc_1054_Harry_Potter_and_the_prisoner_of_azkaban/1054_Harry_Potter_and_the_prisoner_of_azkaban_00.01.46.736-00.01.50.168@0.jpg', 'metadata_fn': 'lsmdc_1054_Harry_Potter_and_the_prisoner_of_azkaban/1054_Harry_Potter_and_the_prisoner_of_azkaban_00.01.46.736-00.01.50.168@0.json', 'answer_orig': '1 is upset and disgusted.', 'question_orig': 'How is 1 feeling?', 'rationale_orig': \"1's expression is twisted in digust.\", 'question': ['How', 'is', [0], 'feeling', '?'], 'answer_match_iter': [3, 0, 2, 1], 'answer_sources': [5697, 0, 11800, 6763], 'answer_choices': [[[0], 'is', 'feeling', 'amused', '.'], [[0], 'is', 'upset', 'and', 'disgusted', '.'], [[0], 'is', 'feeling', 'very', 'scared', '.'], [[0], 'is', 'feeling', 'uncomfortable', 'with', [2], '.']], 'answer_label': 1, 'rationale_choices': [[[0], \"'\", 's', 'mouth', 'has', 'wide', 'eyes', 'and', 'an', 'open', 'mouth', '.'], ['When', 'people', 'have', 'their', 'mouth', 'back', 'like', 'that', 'and', 'their', 'eyebrows', 'lowered', 'they', 'are', 'usually', 'disgusted', 'by', 'what', 'they', 'see', '.'], [[2, 1, 0], 'are', 'seated', 'at', 'a', 'dining', 'table', 'where', 'food', 'would', 'be', 'served', 'to', 'them', '.', 'people', 'unaccustomed', 'to', 'odd', 'or', 'foreign', 'dishes', 'may', 'make', 'disgusted', 'looks', 'at', 'the', 'thought', 'of', 'eating', 'it', '.'], [[0], \"'\", 's', 'expression', 'is', 'twisted', 'in', 'disgust', '.']], 'rationale_sources': [2832, 22727, 16144, 0], 'rationale_match_iter': [2, 1, 3, 0], 'rationale_label': 3, 'img_id': 'val-0', 'question_number': 0, 'annot_id': 'val-0', 'match_fold': 'val-0', 'match_index': 0}\n"
     ]
    }
   ],
   "source": [
    "file_path = '/data2/KJE/VCR/val.jsonl'\n",
    "\n",
    "json_data = []\n",
    "with open(file_path, 'r') as f:\n",
    "    for line in f:\n",
    "        json_data.append(json.loads(line))\n",
    "        \n",
    "print(json_data[0])"
   ]
  },
  {
   "cell_type": "code",
   "execution_count": 2,
   "metadata": {
    "ExecuteTime": {
     "end_time": "2024-02-12T09:09:41.306588727Z",
     "start_time": "2024-02-12T09:09:20.656577236Z"
    }
   },
   "outputs": [
    {
     "name": "stderr",
     "output_type": "stream",
     "text": [
      "100%|██████████| 212923/212923 [00:12<00:00, 17424.58it/s]\n"
     ]
    },
    {
     "name": "stdout",
     "output_type": "stream",
     "text": [
      "train start\n"
     ]
    },
    {
     "name": "stderr",
     "output_type": "stream",
     "text": [
      "100%|██████████| 212923/212923 [00:03<00:00, 66446.02it/s]\n",
      "100%|██████████| 26534/26534 [00:01<00:00, 19187.42it/s]\n"
     ]
    },
    {
     "name": "stdout",
     "output_type": "stream",
     "text": [
      "val start\n"
     ]
    },
    {
     "name": "stderr",
     "output_type": "stream",
     "text": [
      "100%|██████████| 26534/26534 [00:00<00:00, 65569.13it/s]\n",
      "100%|██████████| 25263/25263 [00:01<00:00, 23765.54it/s]\n"
     ]
    },
    {
     "name": "stdout",
     "output_type": "stream",
     "text": [
      "test start\n"
     ]
    },
    {
     "name": "stderr",
     "output_type": "stream",
     "text": [
      "100%|██████████| 25263/25263 [00:00<00:00, 69693.06it/s]\n"
     ]
    }
   ],
   "source": [
    "import os\n",
    "import json\n",
    "import pickle\n",
    "import numpy as np\n",
    "from tqdm import tqdm\n",
    "from collections import defaultdict\n",
    "\n",
    "\n",
    "repo_root = '/data2/KJE'\n",
    "\n",
    "answer_label = ['A','B','C','D']\n",
    "\n",
    "#Prepare `statement` data following CommonsenseQA, OpenBookQA\n",
    "data_root = f'{repo_root}/VCR'\n",
    "os.system(f'mkdir -p {data_root}/statement')\n",
    "\n",
    "for fname in [\"train\",\"val\",\"test\"]:\n",
    "    with open(f\"{data_root}/{fname}.jsonl\") as f:\n",
    "        lines = f.readlines()\n",
    "    examples = []\n",
    "    \n",
    "    for i in tqdm(range(len(lines))):\n",
    "        line = json.loads(lines[i])\n",
    "        _id  = f\"train-{i:05d}\"\n",
    "        if fname=='test':\n",
    "            answerKey = 'N'\n",
    "            stem      = ' '.join(map(str,line[\"question\"] ))\n",
    "\n",
    "            stmts     = [{\"statement\": ' '.join(map(str, line[\"rationale_choices\"][c])) } for c in range(len(line[\"rationale_choices\"]))]\n",
    "\n",
    "        else:\n",
    "            answerKey = answer_label[line[\"answer_label\"]]\n",
    "            stem      = line[\"question_orig\"]   \n",
    "            \n",
    "            stmts     =[]\n",
    "            for idx in range(len(line[\"rationale_choices\"])):\n",
    "                r_choice_join =  ' '.join(map(str, line[\"rationale_choices\"][idx]))\n",
    "                if idx== line[\"rationale_label\"]:\n",
    "                    stmts.append({\"label\": True,\"statement\": r_choice_join})\n",
    "                else:\n",
    "                    stmts.append({\"label\": False,\"statement\": r_choice_join})\n",
    "                    \n",
    "        answer_choices_list = line[\"answer_choices\"]\n",
    "        choices   = [{\"label\": answer_label[k], \"text\": ' '.join(map(str,answer_choices_list[k]))} for k in range(len(answer_choices_list))]\n",
    "\n",
    "        img_fn = line['img_fn']\n",
    "        \n",
    "        ex_obj    = {\"id\": _id, \n",
    "                     \"question\": {\"stem\": stem, \"choices\": choices}, \n",
    "                     \"answerKey\": answerKey, \n",
    "                     \"statements\": stmts,\n",
    "                     \"image\":img_fn\n",
    "                    }\n",
    "        examples.append(ex_obj)\n",
    "    with open(f\"{data_root}/statement/{fname}.statement.jsonl\", 'w') as fout:\n",
    "        # json.dump(examples,fout)\n",
    "        print(f'{fname} start')\n",
    "        for dic in tqdm(examples):\n",
    "            print (json.dumps(dic), file=fout)"
   ]
  },
  {
   "cell_type": "code",
   "execution_count": 7,
   "metadata": {},
   "outputs": [
    {
     "name": "stderr",
     "output_type": "stream",
     "text": [
      "100%|██████████| 1340048/1340048 [00:02<00:00, 448670.23it/s]\n"
     ]
    },
    {
     "name": "stdout",
     "output_type": "stream",
     "text": [
      "test_all_questions start\n"
     ]
    },
    {
     "name": "stderr",
     "output_type": "stream",
     "text": [
      "100%|██████████| 1340048/1340048 [00:08<00:00, 157453.81it/s]\n"
     ]
    },
    {
     "name": "stdout",
     "output_type": "stream",
     "text": [
      "test_all_questions finished\n"
     ]
    },
    {
     "name": "stderr",
     "output_type": "stream",
     "text": [
      "100%|██████████| 713449/713449 [00:01<00:00, 441644.77it/s]\n"
     ]
    },
    {
     "name": "stdout",
     "output_type": "stream",
     "text": [
      "challenge_all_questions start\n"
     ]
    },
    {
     "name": "stderr",
     "output_type": "stream",
     "text": [
      "100%|██████████| 713449/713449 [00:04<00:00, 151326.79it/s]\n"
     ]
    },
    {
     "name": "stdout",
     "output_type": "stream",
     "text": [
      "challenge_all_questions finished\n"
     ]
    },
    {
     "name": "stderr",
     "output_type": "stream",
     "text": [
      "100%|██████████| 50726/50726 [00:00<00:00, 444006.29it/s]\n"
     ]
    },
    {
     "name": "stdout",
     "output_type": "stream",
     "text": [
      "challenge_balanced_questions start\n"
     ]
    },
    {
     "name": "stderr",
     "output_type": "stream",
     "text": [
      "100%|██████████| 50726/50726 [00:00<00:00, 151367.98it/s]\n"
     ]
    },
    {
     "name": "stdout",
     "output_type": "stream",
     "text": [
      "challenge_balanced_questions finished\n"
     ]
    },
    {
     "name": "stderr",
     "output_type": "stream",
     "text": [
      "100%|██████████| 4237524/4237524 [00:20<00:00, 211738.99it/s]\n"
     ]
    },
    {
     "name": "stdout",
     "output_type": "stream",
     "text": [
      "submission_all_questions start\n"
     ]
    },
    {
     "name": "stderr",
     "output_type": "stream",
     "text": [
      "100%|██████████| 4237524/4237524 [00:26<00:00, 160312.30it/s]\n"
     ]
    },
    {
     "name": "stdout",
     "output_type": "stream",
     "text": [
      "submission_all_questions finished\n"
     ]
    },
    {
     "name": "stderr",
     "output_type": "stream",
     "text": [
      "100%|██████████| 95336/95336 [00:00<00:00, 472131.70it/s]\n"
     ]
    },
    {
     "name": "stdout",
     "output_type": "stream",
     "text": [
      "test_balanced_questions start\n"
     ]
    },
    {
     "name": "stderr",
     "output_type": "stream",
     "text": [
      "100%|██████████| 95336/95336 [00:00<00:00, 153642.81it/s]\n"
     ]
    },
    {
     "name": "stdout",
     "output_type": "stream",
     "text": [
      "test_balanced_questions finished\n"
     ]
    },
    {
     "name": "stderr",
     "output_type": "stream",
     "text": [
      "100%|██████████| 172174/172174 [00:01<00:00, 150721.43it/s]\n"
     ]
    },
    {
     "name": "stdout",
     "output_type": "stream",
     "text": [
      "testdev_all_questions start\n"
     ]
    },
    {
     "name": "stderr",
     "output_type": "stream",
     "text": [
      "100%|██████████| 172174/172174 [00:01<00:00, 152373.85it/s]\n"
     ]
    },
    {
     "name": "stdout",
     "output_type": "stream",
     "text": [
      "testdev_all_questions finished\n"
     ]
    },
    {
     "name": "stderr",
     "output_type": "stream",
     "text": [
      "100%|██████████| 943000/943000 [00:06<00:00, 153622.05it/s]\n"
     ]
    },
    {
     "name": "stdout",
     "output_type": "stream",
     "text": [
      "train_balanced_questions start\n"
     ]
    },
    {
     "name": "stderr",
     "output_type": "stream",
     "text": [
      "100%|██████████| 943000/943000 [00:06<00:00, 149964.50it/s]"
     ]
    },
    {
     "name": "stdout",
     "output_type": "stream",
     "text": [
      "train_balanced_questions finished\n"
     ]
    },
    {
     "name": "stderr",
     "output_type": "stream",
     "text": [
      "\n"
     ]
    }
   ],
   "source": [
    "import os\n",
    "import json\n",
    "from tqdm import tqdm\n",
    "\n",
    "data_root =\"/data2/NS/GQA\"  \n",
    "\n",
    "repo_root = '/data2/KJE'\n",
    "os.system(f'mkdir -p {repo_root}/GQA/statement')\n",
    "\n",
    "for fname_pattern in [\"val_balanced_questions\", \"train_all_questions\", \"val_all_questions\", \"test_all_questions\", \"challenge_all_questions\",\"challenge_balanced_questions\",\"submission_all_questions\",\"test_balanced_questions\",\"testdev_all_questions\", \"train_balanced_questions\"]:\n",
    "  \n",
    "    if fname_pattern == \"train_all_questions\":\n",
    "        range_limit = 10  \n",
    "    \n",
    "    else:\n",
    "        range_limit = 1  \n",
    "     \n",
    "    \n",
    "    for i in range(range_limit):\n",
    "        if fname_pattern == \"train_all_questions\":\n",
    "            fname = f\"{fname_pattern}_{i}\" \n",
    "            file_path = f\"{data_root}/questions/train_all_questions/{fname}.json\"\n",
    "          \n",
    "        else:\n",
    "            fname = f\"{fname_pattern}\"\n",
    "            file_path = f\"{data_root}/questions/{fname}.json\"\n",
    "         \n",
    "            \n",
    "        if not os.path.isfile(file_path):\n",
    "            continue\n",
    "\n",
    "        with open(file_path, 'r') as f:\n",
    "            data = json.load(f)\n",
    "\n",
    "        examples = []\n",
    "       \n",
    "        for _id, item in tqdm(data.items()):\n",
    "            question_stem = item[\"question\"]\n",
    "            imageId = item[\"imageId\"]\n",
    "            answer = item.get(\"answer\", \"N/A\")\n",
    "\n",
    "            if 'test' in fname_pattern:  \n",
    "                answerKey = 'N'  \n",
    "            else:\n",
    "                answerKey = 'A' #item[\"answer\"]\n",
    "\n",
    "            fullAnswer = item.get(\"fullAnswer\", \"N/A\")  \n",
    "\n",
    "            ex_obj = {\n",
    "                \"id\": _id,\n",
    "                \"question\": {\n",
    "                    \"stem\": question_stem,\n",
    "                    \"choices\": {\"label\": \"A\", \"text\": answer}},\n",
    "                \"answerKey\": answerKey,\n",
    "                \"statements\": {\n",
    "                    \"text\": fullAnswer\n",
    "                },\n",
    "                \"image\": f\"{imageId}.jpg\"\n",
    "            }\n",
    "            examples.append(ex_obj)\n",
    "   \n",
    "        with open(f\"{repo_root}/GQA/statement/{fname}.statement.json\", 'w') as fout:\n",
    "            print(f'{fname} start')\n",
    "\n",
    "            for dic in tqdm(examples):\n",
    "                print (json.dumps(dic), file=fout)\n",
    "        print(f'{fname} finished')\n"
   ]
  }
 ],
 "metadata": {
  "kernelspec": {
   "display_name": "Python 3.7.16 ('RSG')",
   "language": "python",
   "name": "python3"
  },
  "language_info": {
   "codemirror_mode": {
    "name": "ipython",
    "version": 3
   },
   "file_extension": ".py",
   "mimetype": "text/x-python",
   "name": "python",
   "nbconvert_exporter": "python",
   "pygments_lexer": "ipython3",
   "version": "3.7.16"
  },
  "orig_nbformat": 4,
  "vscode": {
   "interpreter": {
    "hash": "ece9e7c00bc86c06dc0eeeb923f432e655eb18ebf7ab7f680ff9577ef913393d"
   }
  }
 },
 "nbformat": 4,
 "nbformat_minor": 2
}
